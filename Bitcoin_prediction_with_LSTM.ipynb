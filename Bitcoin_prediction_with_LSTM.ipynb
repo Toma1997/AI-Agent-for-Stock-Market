{
  "nbformat": 4,
  "nbformat_minor": 0,
  "metadata": {
    "colab": {
      "name": "Bitcoin_prediction_with_LSTM.ipynb",
      "version": "0.3.2",
      "provenance": [],
      "collapsed_sections": []
    },
    "language_info": {
      "codemirror_mode": {
        "name": "ipython",
        "version": 3
      },
      "file_extension": ".py",
      "mimetype": "text/x-python",
      "name": "python",
      "nbconvert_exporter": "python",
      "pygments_lexer": "ipython3",
      "version": "3.6.0"
    },
    "kernelspec": {
      "name": "python3",
      "display_name": "Python 3"
    },
    "accelerator": "TPU"
  },
  "cells": [
    {
      "cell_type": "code",
      "metadata": {
        "id": "x6ONcOJ9tV-C",
        "colab_type": "code",
        "outputId": "cfa429e6-80e2-4f46-f8c0-5aa60d25f698",
        "colab": {
          "resources": {
            "http://localhost:8080/nbextensions/google.colab/files.js": {
              "data": "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",
              "ok": true,
              "headers": [
                [
                  "content-type",
                  "application/javascript"
                ]
              ],
              "status": 200,
              "status_text": ""
            }
          },
          "base_uri": "https://localhost:8080/",
          "height": 71
        }
      },
      "source": [
        "import warnings\n",
        "warnings.filterwarnings('ignore')\n",
        "\n",
        "import numpy as np\n",
        "import pandas as pd\n",
        "from sklearn.preprocessing import StandardScaler # for normalizing our data (scalling)\n",
        "\n",
        "import matplotlib.pyplot as plt\n",
        "%matplotlib inline \n",
        "\n",
        "import tensorflow as tf # for LSTM implementation\n",
        "tf.logging.set_verbosity(tf.logging.ERROR) # it will log errors if occured\n",
        "\n",
        "from google.colab import files\n",
        "import io\n",
        "uploaded = files.upload() # upload dataset file from local machine"
      ],
      "execution_count": 0,
      "outputs": [
        {
          "output_type": "display_data",
          "data": {
            "text/html": [
              "\n",
              "     <input type=\"file\" id=\"files-2a486137-25dd-4c1b-8efe-e3a33a2d321f\" name=\"files[]\" multiple disabled />\n",
              "     <output id=\"result-2a486137-25dd-4c1b-8efe-e3a33a2d321f\">\n",
              "      Upload widget is only available when the cell has been executed in the\n",
              "      current browser session. Please rerun this cell to enable.\n",
              "      </output>\n",
              "      <script src=\"/nbextensions/google.colab/files.js\"></script> "
            ],
            "text/plain": [
              "<IPython.core.display.HTML object>"
            ]
          },
          "metadata": {
            "tags": []
          }
        },
        {
          "output_type": "stream",
          "text": [
            "Saving bitcoin_data.csv to bitcoin_data.csv\n"
          ],
          "name": "stdout"
        }
      ]
    },
    {
      "cell_type": "code",
      "metadata": {
        "id": "yWUhBRALtV-w",
        "colab_type": "code",
        "outputId": "8d24e1a9-ed2e-494f-9c8c-6bf4583814e9",
        "colab": {
          "base_uri": "https://localhost:8080/",
          "height": 204
        }
      },
      "source": [
        "dataframe = pd.read_csv(io.BytesIO(uploaded['bitcoin_data.csv']))\n",
        "\n",
        "# Display a few rows of the dataset as follows:\n",
        "dataframe.head()"
      ],
      "execution_count": 0,
      "outputs": [
        {
          "output_type": "execute_result",
          "data": {
            "text/html": [
              "<div>\n",
              "<style scoped>\n",
              "    .dataframe tbody tr th:only-of-type {\n",
              "        vertical-align: middle;\n",
              "    }\n",
              "\n",
              "    .dataframe tbody tr th {\n",
              "        vertical-align: top;\n",
              "    }\n",
              "\n",
              "    .dataframe thead th {\n",
              "        text-align: right;\n",
              "    }\n",
              "</style>\n",
              "<table border=\"1\" class=\"dataframe\">\n",
              "  <thead>\n",
              "    <tr style=\"text-align: right;\">\n",
              "      <th></th>\n",
              "      <th>Date</th>\n",
              "      <th>Symbol</th>\n",
              "      <th>Open</th>\n",
              "      <th>High</th>\n",
              "      <th>Low</th>\n",
              "      <th>Close</th>\n",
              "      <th>Volume From</th>\n",
              "      <th>Volume To</th>\n",
              "    </tr>\n",
              "  </thead>\n",
              "  <tbody>\n",
              "    <tr>\n",
              "      <th>0</th>\n",
              "      <td>5/26/2018</td>\n",
              "      <td>BTCUSD</td>\n",
              "      <td>7459.11</td>\n",
              "      <td>7640.46</td>\n",
              "      <td>7380.00</td>\n",
              "      <td>7520.00</td>\n",
              "      <td>2722.80</td>\n",
              "      <td>2.042265e+07</td>\n",
              "    </tr>\n",
              "    <tr>\n",
              "      <th>1</th>\n",
              "      <td>5/25/2018</td>\n",
              "      <td>BTCUSD</td>\n",
              "      <td>7584.15</td>\n",
              "      <td>7661.85</td>\n",
              "      <td>7326.94</td>\n",
              "      <td>7459.11</td>\n",
              "      <td>8491.93</td>\n",
              "      <td>6.342069e+07</td>\n",
              "    </tr>\n",
              "    <tr>\n",
              "      <th>2</th>\n",
              "      <td>5/24/2018</td>\n",
              "      <td>BTCUSD</td>\n",
              "      <td>7505.00</td>\n",
              "      <td>7734.99</td>\n",
              "      <td>7269.00</td>\n",
              "      <td>7584.15</td>\n",
              "      <td>11033.72</td>\n",
              "      <td>8.293137e+07</td>\n",
              "    </tr>\n",
              "    <tr>\n",
              "      <th>3</th>\n",
              "      <td>5/23/2018</td>\n",
              "      <td>BTCUSD</td>\n",
              "      <td>7987.70</td>\n",
              "      <td>8030.00</td>\n",
              "      <td>7433.19</td>\n",
              "      <td>7505.00</td>\n",
              "      <td>14905.99</td>\n",
              "      <td>1.148104e+08</td>\n",
              "    </tr>\n",
              "    <tr>\n",
              "      <th>4</th>\n",
              "      <td>5/22/2018</td>\n",
              "      <td>BTCUSD</td>\n",
              "      <td>8393.44</td>\n",
              "      <td>8400.00</td>\n",
              "      <td>7950.00</td>\n",
              "      <td>7987.70</td>\n",
              "      <td>6589.43</td>\n",
              "      <td>5.389753e+07</td>\n",
              "    </tr>\n",
              "  </tbody>\n",
              "</table>\n",
              "</div>"
            ],
            "text/plain": [
              "        Date  Symbol     Open  ...    Close  Volume From     Volume To\n",
              "0  5/26/2018  BTCUSD  7459.11  ...  7520.00      2722.80  2.042265e+07\n",
              "1  5/25/2018  BTCUSD  7584.15  ...  7459.11      8491.93  6.342069e+07\n",
              "2  5/24/2018  BTCUSD  7505.00  ...  7584.15     11033.72  8.293137e+07\n",
              "3  5/23/2018  BTCUSD  7987.70  ...  7505.00     14905.99  1.148104e+08\n",
              "4  5/22/2018  BTCUSD  8393.44  ...  7987.70      6589.43  5.389753e+07\n",
              "\n",
              "[5 rows x 8 columns]"
            ]
          },
          "metadata": {
            "tags": []
          },
          "execution_count": 2
        }
      ]
    },
    {
      "cell_type": "markdown",
      "metadata": {
        "id": "YEdZvxmvtV_A",
        "colab_type": "text"
      },
      "source": [
        "As shown in the above data frame, the column Close represents the closing price of bitcoins. We need only the column Close to make predictions, so we take that particular column alone as follows:"
      ]
    },
    {
      "cell_type": "code",
      "metadata": {
        "scrolled": true,
        "id": "GlrhBp95tV_D",
        "colab_type": "code",
        "outputId": "27282933-5d8a-4f57-e6db-4689eea36a93",
        "colab": {
          "base_uri": "https://localhost:8080/",
          "height": 136
        }
      },
      "source": [
        "dataClose = dataframe['Close'].values\n",
        "\n",
        "# Next, we standardize the data and bring it to the same scale\n",
        "scaler = StandardScaler() # Sklearn contains the preprocessing module that allows us to scale our data and then fit it in our model.\n",
        "dataClose = scaler.fit_transform(dataClose.reshape(-1, 1)) # fit to data, thrn transform it for LSTM functions\n",
        "dataClose"
      ],
      "execution_count": 0,
      "outputs": [
        {
          "output_type": "execute_result",
          "data": {
            "text/plain": [
              "array([[ 1.32443891],\n",
              "       [ 1.30836052],\n",
              "       [ 1.34137813],\n",
              "       ...,\n",
              "       [-0.56145134],\n",
              "       [-0.56145134],\n",
              "       [-0.56356379]])"
            ]
          },
          "metadata": {
            "tags": []
          },
          "execution_count": 3
        }
      ]
    },
    {
      "cell_type": "markdown",
      "metadata": {
        "id": "Df0cdXc5tV_R",
        "colab_type": "text"
      },
      "source": [
        "Plot and observe the trend of how the bitcoins price changes as follows, Since we scaled the price, it is not a bigger number:"
      ]
    },
    {
      "cell_type": "code",
      "metadata": {
        "scrolled": false,
        "id": "KGrKPFHNtV_T",
        "colab_type": "code",
        "outputId": "3b96add8-a214-4c82-c08a-9d889a61b7a0",
        "colab": {
          "base_uri": "https://localhost:8080/",
          "height": 283
        }
      },
      "source": [
        "plt.plot(dataClose)\n",
        "plt.xlabel('Days')\n",
        "plt.ylabel('Price')\n",
        "plt.grid()"
      ],
      "execution_count": 0,
      "outputs": [
        {
          "output_type": "display_data",
          "data": {
            "image/png": "[encoded data removed]",
            "text/plain": [
              "<Figure size 432x288 with 1 Axes>"
            ]
          },
          "metadata": {
            "tags": []
          }
        }
      ]
    },
    {
      "cell_type": "markdown",
      "metadata": {
        "id": "oXMgg9detV_b",
        "colab_type": "text"
      },
      "source": [
        "We define a function called get_data which generates the input and output. It takes the data and window_size as an input and generates the input and target column.\n",
        "\n",
        "What is window size? We move the x values window_size times ahead and get the y values. For instance, as shown in the below table with window_size = 1, Y values are just 1-time step ahead of x values.\n",
        "\n",
        "X = 0.13, 0.56, 0.11, 0.40\n",
        "\n",
        "Y = 0.56, 0.11, 0.40, 0.63\n",
        "\n",
        "The get_data() function is defined as follows: "
      ]
    },
    {
      "cell_type": "code",
      "metadata": {
        "id": "nED9dpH0tV_d",
        "colab_type": "code",
        "colab": {}
      },
      "source": [
        "def get_data(data, window_size):\n",
        "    X = []\n",
        "    y = []\n",
        "    i = 0\n",
        "    while (i + window_size) <= len(data) - 1:\n",
        "        X.append(data[i:i+window_size])\n",
        "        y.append(data[i+window_size])\n",
        "        \n",
        "        i += 1\n",
        "    assert len(X) ==  len(y) # input and output size should be the same\n",
        "    return X, y\n"
      ],
      "execution_count": 0,
      "outputs": []
    },
    {
      "cell_type": "markdown",
      "metadata": {
        "id": "YQerqiO8tV_i",
        "colab_type": "text"
      },
      "source": [
        "We choose window size as 7 and generate the input and output:"
      ]
    },
    {
      "cell_type": "code",
      "metadata": {
        "id": "acNlLWkmtV_k",
        "colab_type": "code",
        "outputId": "6d1b8d89-e033-4184-9bbe-9e0faec1bda5",
        "colab": {
          "base_uri": "https://localhost:8080/",
          "height": 85
        }
      },
      "source": [
        "X, y = get_data(dataClose, window_size = 7)\n",
        "\n",
        "#train set, first 1000 values\n",
        "X_train  = np.array(X[:1000]) \n",
        "y_train = np.array(y[:1000])\n",
        "\n",
        "#test set, last 273 values\n",
        "X_test = np.array(X[1000:])\n",
        "y_test = np.array(y[1000:])\n",
        "\n",
        "# The shape of train and test sets are shown:\n",
        "print(\"X_train size: {}\".format(X_train.shape))\n",
        "print(\"y_train size: {}\".format(y_train.shape))\n",
        "print(\"X_test size: {}\".format(X_test.shape))\n",
        "print(\"y_test size: {}\".format(y_test.shape))"
      ],
      "execution_count": 0,
      "outputs": [
        {
          "output_type": "stream",
          "text": [
            "X_train size: (1000, 7, 1)\n",
            "y_train size: (1000, 1)\n",
            "X_test size: (266, 7, 1)\n",
            "y_test size: (266, 1)\n"
          ],
          "name": "stdout"
        }
      ]
    },
    {
      "cell_type": "markdown",
      "metadata": {
        "id": "CrnjJkIttV_8",
        "colab_type": "text"
      },
      "source": [
        "\n",
        "What does the preceding shape mean? It implies that (sample_size, time_steps, features). LSTM requires input exactly in this format, for example:\n",
        "\n",
        "* 1000 implies the number of data points (sample_size)\n",
        "\n",
        "* 7 specifies the window size (time_steps) \n",
        "\n",
        "* 1 specifies the dimension of our dataset (features) "
      ]
    },
    {
      "cell_type": "code",
      "metadata": {
        "id": "BeWN0eGjtV__",
        "colab_type": "code",
        "colab": {}
      },
      "source": [
        "# Define the neural network parameters:\n",
        "batch_size = 7 # windows of data we are passing at once\n",
        "window_size = 7 # days considered to predict \n",
        "hidden_layer = 256 # units in LSTM cell\n",
        "learning_rate = 0.001 # optimization method that aims to reduce the loss function\n",
        "\n",
        "# Define the placeholders for our input and output:\n",
        "# Placeholders allows us to send different data within our network with the tf.placeholder() command.\n",
        "inputPlaceholder = tf.placeholder(tf.float32, [batch_size, window_size, 1])\n",
        "outputPlaceholder = tf.placeholder(tf.float32, [batch_size, 1])\n",
        "\n",
        "# All the weights we use in our LSTM cell:\n",
        "# LSTM weights are determined by Operation Gates which include: Forget, Input and Output gates\n",
        "\n",
        "# tf.Variable () - creates a variable in the graph as tensor\n",
        "# tf.truncated_normal() - Outputs random values from a truncated normal distribution\n",
        "\n",
        "# Weights of the input gate:\n",
        "weights_input_gate = tf.Variable(tf.truncated_normal([1, hidden_layer], stddev=0.05))\n",
        "weights_input_hidden = tf.Variable(tf.truncated_normal([hidden_layer, hidden_layer], stddev=0.05))\n",
        "bias_input = tf.Variable(tf.zeros([hidden_layer]))\n",
        "\n",
        "# Weights of the forget gate:\n",
        "weights_forget_gate = tf.Variable(tf.truncated_normal([1, hidden_layer], stddev=0.05))\n",
        "weights_forget_hidden = tf.Variable(tf.truncated_normal([hidden_layer, hidden_layer], stddev=0.05))\n",
        "bias_forget = tf.Variable(tf.zeros([hidden_layer]))\n",
        "\n",
        "# Weights of the output gate:\n",
        "weights_output_gate = tf.Variable(tf.truncated_normal([1, hidden_layer], stddev=0.05))\n",
        "weights_output_hidden = tf.Variable(tf.truncated_normal([hidden_layer, hidden_layer], stddev=0.05))\n",
        "bias_output = tf.Variable(tf.zeros([hidden_layer]))\n",
        "\n",
        "# Weights of the candidate state:\n",
        "weights_memory_cell = tf.Variable(tf.truncated_normal([1, hidden_layer], stddev=0.05))\n",
        "weights_memory_cell_hidden = tf.Variable(tf.truncated_normal([hidden_layer, hidden_layer], stddev=0.05))\n",
        "bias_memory_cell = tf.Variable(tf.zeros([hidden_layer]))\n",
        "\n",
        "# Output layer weight:\n",
        "weights_output = tf.Variable(tf.truncated_normal([hidden_layer, 1], stddev=0.05))\n",
        "bias_output_layer = tf.Variable(tf.zeros([1]))"
      ],
      "execution_count": 0,
      "outputs": []
    },
    {
      "cell_type": "markdown",
      "metadata": {
        "id": "MZJ--FN_tWA7",
        "colab_type": "text"
      },
      "source": [
        "## Define the LSTM cell\n",
        "\n",
        "\n",
        "\n",
        "We define the function called LSTM_cell, which returns the cell state and hidden state as an output. Recall the steps we saw in the forward propagation of LSTM:\n",
        "\n",
        "(input gate) $$ i_t = \\sigma ( U_i x_t + W_f h_{t-1} + b_i)  $$\n",
        "\n",
        "(forget gate)$$ f_t = \\sigma ( U_f x_t + W_f h_{t-1} + b_f)  $$ \n",
        "\n",
        "(output gate)$$ o_t = \\sigma (U_o x_t + W_o h_{t-1} + b_o)  $$\n",
        "\n",
        "(memory cell)$$ g_t  = tanh (U_g x_t + W_g h_{t-1} + b_g)  $$\n",
        "\n",
        "(state updated)$$  c_t = f_t  c_{t-1} + i_t {g_t}  $$\n",
        "\n",
        "(output)$$ h_t = o_t tanh(c_t)  $$\n",
        "\n",
        "The LSTM cell is implemented as shown in the following code. It takes the input, previous hidden state, and previous cell state as inputs, and returns the current cell state and current hidden state."
      ]
    },
    {
      "cell_type": "code",
      "metadata": {
        "id": "YlIStHU_tWA-",
        "colab_type": "code",
        "colab": {}
      },
      "source": [
        "#compute the gate states\n",
        "def LSTM_cell(inputPlaceholder, prev_hidden_state, prev_cell_state):\n",
        "    input_gate = tf.sigmoid(tf.matmul(inputPlaceholder, weights_input_gate) + tf.matmul(prev_hidden_state, weights_input_hidden) + bias_input)\n",
        "    forget_gate = tf.sigmoid(tf.matmul(inputPlaceholder, weights_forget_gate) + tf.matmul(prev_hidden_state, weights_forget_hidden) + bias_forget)\n",
        "    output_gate = tf.sigmoid(tf.matmul(inputPlaceholder, weights_output_gate) + tf.matmul(prev_hidden_state, weights_output_hidden) + bias_output)\n",
        "    memory_cell = tf.tanh(tf.matmul(inputPlaceholder, weights_memory_cell) + tf.matmul(prev_hidden_state, weights_memory_cell_hidden) + bias_memory_cell)\n",
        "    \n",
        "    state = (prev_cell_state * forget_gate) + (input_gate * memory_cell)\n",
        "    output = output_gate * tf.tanh(state)\n",
        "    \n",
        "    return state, output"
      ],
      "execution_count": 0,
      "outputs": []
    },
    {
      "cell_type": "markdown",
      "metadata": {
        "id": "hzVSzFJitWBJ",
        "colab_type": "text"
      },
      "source": [
        "## Defining forward propagation\n",
        "\n",
        "\n",
        "Now, we will perform forward propagation and predict the output, $\\hat{y}_t$. \n",
        "\n",
        "$$ \\hat{y}_t = Vh_t + b_v$$"
      ]
    },
    {
      "cell_type": "code",
      "metadata": {
        "id": "A3aHBa3etWBL",
        "colab_type": "code",
        "colab": {}
      },
      "source": [
        "#initialize the list called outputs for storing the predicted output\n",
        "outputs = []\n",
        "\n",
        "#for each batch we compute the output and store it in the outputs list\n",
        "for i in range(batch_size): \n",
        "  \n",
        "    #initialize hidden state and cell state for each batch\n",
        "    hidden_state = np.zeros([1, hidden_layer], dtype=np.float32) \n",
        "    cell_state = np.zeros([1, hidden_layer], dtype=np.float32)\n",
        "    \n",
        "    \n",
        "    #compute the hidden state and cell state of the LSTM cell for each time step\n",
        "    for t in range(window_size):\n",
        "        cell_state, hidden_state = LSTM_cell(tf.reshape(inputPlaceholder[i][t], (-1, 1)), hidden_state, cell_state)\n",
        "        \n",
        "    #compute output and append it to outputs list\n",
        "    outputs.append(tf.matmul(hidden_state, weights_output) + bias_output_layer)"
      ],
      "execution_count": 0,
      "outputs": []
    },
    {
      "cell_type": "markdown",
      "metadata": {
        "id": "PAmbRTCFtWBQ",
        "colab_type": "text"
      },
      "source": [
        "## Defining backpropagation\n",
        "\n",
        "After performing forward propagation and predicting the output, we compute the loss. We use mean squared error as our loss function and the total loss is the sum of losses across all the time steps as follows:"
      ]
    },
    {
      "cell_type": "code",
      "metadata": {
        "id": "6s5PqDbttWBR",
        "colab_type": "code",
        "colab": {}
      },
      "source": [
        "losses = []\n",
        "\n",
        "# we will use mean squared error for the loss to minimize the errors\n",
        "for i in range(len(outputs)):\n",
        "    losses.append(tf.losses.mean_squared_error(tf.reshape(outputPlaceholder[i], (-1, 1)), outputs[i]))\n",
        "    \n",
        "loss = tf.reduce_mean(losses)\n",
        "\n",
        "# To avoid the exploding gradient problem, we perform gradient clipping:\n",
        "gradients = tf.gradients(loss, tf.trainable_variables()) \n",
        "clipped, _ = tf.clip_by_global_norm(gradients, 4.0) # This is to prevent exploding the gradient, we use clipper to clip gradients below above this margin.\n",
        "\n",
        "#MAR optimization function, for tracking errors implement mathematical formula loss = np.abs((y - predicted_output)/y)*100\n",
        "\n",
        "# We use Adam optimizer and minimize our loss function:\n",
        "optimizer = tf.train.AdamOptimizer(learning_rate).apply_gradients(zip(gradients, tf.trainable_variables()))"
      ],
      "execution_count": 0,
      "outputs": []
    },
    {
      "cell_type": "markdown",
      "metadata": {
        "id": "Vm-TpM4dtWBu",
        "colab_type": "text"
      },
      "source": [
        "## Training the LSTM model\n",
        "\n",
        "\n",
        "Start the TensorFlow session and initialize all the variables:"
      ]
    },
    {
      "cell_type": "code",
      "metadata": {
        "id": "Z7JGCleGtWBv",
        "colab_type": "code",
        "outputId": "ddc7df10-6a5e-4a18-ac5b-33318448114e",
        "colab": {
          "base_uri": "https://localhost:8080/",
          "height": 357
        }
      },
      "source": [
        "session = tf.Session()\n",
        "session.run(tf.global_variables_initializer())\n",
        "\n",
        "epochs = 200 # This is the number of iterations (forward and back propagation) our model needs to make\n",
        "\n",
        "for i in range(1, epochs+1):\n",
        "    train_predictions = []\n",
        "    index = 0\n",
        "    epoch_loss = []\n",
        "    \n",
        "    #Sample some batche of data and train the network\n",
        "    while(index + batch_size) <= len(X_train):\n",
        "        \n",
        "        #sample batch of data\n",
        "        X_batch = X_train[index:index+batch_size]\n",
        "        y_batch = y_train[index:index+batch_size]\n",
        "        \n",
        "        #predict the prices and compute loss\n",
        "        predicted, loss_val, _ = session.run([outputs, loss, optimizer], feed_dict={inputPlaceholder:X_batch, outputPlaceholder:y_batch})\n",
        "        \n",
        "        #store the loss\n",
        "        epoch_loss.append(loss_val)\n",
        "        \n",
        "        #store the predictions\n",
        "        train_predictions.append(predicted)\n",
        "        index += batch_size\n",
        "        \n",
        "        \n",
        "    #print the loss on every 10 iterations\n",
        "    if (i % 10)== 0:\n",
        "        print('Epoch {}/{}, Loss: {} '.format(i, epochs, np.mean(epoch_loss))) "
      ],
      "execution_count": 0,
      "outputs": [
        {
          "output_type": "stream",
          "text": [
            "Epoch 10/200, Loss: 0.0573912188410759 \n",
            "Epoch 20/200, Loss: 0.02599491737782955 \n",
            "Epoch 30/200, Loss: 0.027569731697440147 \n",
            "Epoch 40/200, Loss: 0.008701994083821774 \n",
            "Epoch 50/200, Loss: 0.011955897323787212 \n",
            "Epoch 60/200, Loss: 0.013859596103429794 \n",
            "Epoch 70/200, Loss: 0.008302769623696804 \n",
            "Epoch 80/200, Loss: 0.008931073360145092 \n",
            "Epoch 90/200, Loss: 0.0076071470975875854 \n",
            "Epoch 100/200, Loss: 0.007045272272080183 \n",
            "Epoch 110/200, Loss: 0.006889317650347948 \n",
            "Epoch 120/200, Loss: 0.006436928175389767 \n",
            "Epoch 130/200, Loss: 0.006212388165295124 \n",
            "Epoch 140/200, Loss: 0.006452651694417 \n",
            "Epoch 150/200, Loss: 0.00590600585564971 \n",
            "Epoch 160/200, Loss: 0.005832828115671873 \n",
            "Epoch 170/200, Loss: 0.006793075241148472 \n",
            "Epoch 180/200, Loss: 0.006191043648868799 \n",
            "Epoch 190/200, Loss: 0.00593144353479147 \n",
            "Epoch 200/200, Loss: 0.004923261236399412 \n"
          ],
          "name": "stdout"
        }
      ]
    },
    {
      "cell_type": "markdown",
      "metadata": {
        "id": "AhOZfKUbtWCT",
        "colab_type": "text"
      },
      "source": [
        "## Making predictions using the LSTM model\n",
        "\n",
        "Now, we will start making predictions on the test set."
      ]
    },
    {
      "cell_type": "code",
      "metadata": {
        "id": "PATNe-Z5tWCW",
        "colab_type": "code",
        "outputId": "ce9394b0-e815-407b-fc36-ad7af48a2166",
        "colab": {
          "base_uri": "https://localhost:8080/",
          "height": 136
        }
      },
      "source": [
        "predicted_output = []\n",
        "i = 0\n",
        "while (i + batch_size) <= len(X_test): \n",
        "  \n",
        "    output = session.run([outputs],feed_dict={inputPlaceholder:X_test[i:i+batch_size]})\n",
        "    i += batch_size\n",
        "    predicted_output.append(output)\n",
        "    \n",
        "    \n",
        "# Print the predicted output\n",
        "predicted_output[0]"
      ],
      "execution_count": 0,
      "outputs": [
        {
          "output_type": "execute_result",
          "data": {
            "text/plain": [
              "[[array([[-0.60434246]], dtype=float32),\n",
              "  array([[-0.59985876]], dtype=float32),\n",
              "  array([[-0.59993327]], dtype=float32),\n",
              "  array([[-0.5989945]], dtype=float32),\n",
              "  array([[-0.59827924]], dtype=float32),\n",
              "  array([[-0.6006713]], dtype=float32),\n",
              "  array([[-0.5952091]], dtype=float32)]]"
            ]
          },
          "metadata": {
            "tags": []
          },
          "execution_count": 14
        }
      ]
    },
    {
      "cell_type": "markdown",
      "metadata": {
        "id": "r6Km2s4ZtWCx",
        "colab_type": "text"
      },
      "source": [
        "As you can see above, the predicted values are in a nested list. So we will just flatten them."
      ]
    },
    {
      "cell_type": "code",
      "metadata": {
        "id": "ADdn35lUtWC3",
        "colab_type": "code",
        "outputId": "09523fe7-52c2-45a5-ede3-102732bd98d2",
        "colab": {
          "base_uri": "https://localhost:8080/",
          "height": 1000
        }
      },
      "source": [
        "predicted_values_test = []\n",
        "for i in range(len(predicted_output)):\n",
        "    for j in range(len(predicted_output[i][0])):\n",
        "        predicted_values_test.append(predicted_output[i][0][j])\n",
        "        \n",
        "# Now if we print the predicted values, it is no longer in a nested list\n",
        "predicted_values_test"
      ],
      "execution_count": 0,
      "outputs": [
        {
          "output_type": "execute_result",
          "data": {
            "text/plain": [
              "[array([[-0.60434246]], dtype=float32),\n",
              " array([[-0.59985876]], dtype=float32),\n",
              " array([[-0.59993327]], dtype=float32),\n",
              " array([[-0.5989945]], dtype=float32),\n",
              " array([[-0.59827924]], dtype=float32),\n",
              " array([[-0.6006713]], dtype=float32),\n",
              " array([[-0.5952091]], dtype=float32),\n",
              " array([[-0.59301364]], dtype=float32),\n",
              " array([[-0.5930333]], dtype=float32),\n",
              " array([[-0.59183586]], dtype=float32),\n",
              " array([[-0.59115195]], dtype=float32),\n",
              " array([[-0.59190106]], dtype=float32),\n",
              " array([[-0.590572]], dtype=float32),\n",
              " array([[-0.5902865]], dtype=float32),\n",
              " array([[-0.59199655]], dtype=float32),\n",
              " array([[-0.5909897]], dtype=float32),\n",
              " array([[-0.59306]], dtype=float32),\n",
              " array([[-0.58794045]], dtype=float32),\n",
              " array([[-0.588351]], dtype=float32),\n",
              " array([[-0.5876421]], dtype=float32),\n",
              " array([[-0.58663297]], dtype=float32),\n",
              " array([[-0.5880953]], dtype=float32),\n",
              " array([[-0.58769107]], dtype=float32),\n",
              " array([[-0.5878947]], dtype=float32),\n",
              " array([[-0.5872488]], dtype=float32),\n",
              " array([[-0.5862925]], dtype=float32),\n",
              " array([[-0.58605635]], dtype=float32),\n",
              " array([[-0.5843774]], dtype=float32),\n",
              " array([[-0.5849403]], dtype=float32),\n",
              " array([[-0.58521926]], dtype=float32),\n",
              " array([[-0.5861473]], dtype=float32),\n",
              " array([[-0.58622205]], dtype=float32),\n",
              " array([[-0.58958924]], dtype=float32),\n",
              " array([[-0.58902264]], dtype=float32),\n",
              " array([[-0.58920956]], dtype=float32),\n",
              " array([[-0.5888374]], dtype=float32),\n",
              " array([[-0.5894581]], dtype=float32),\n",
              " array([[-0.58884084]], dtype=float32),\n",
              " array([[-0.5882989]], dtype=float32),\n",
              " array([[-0.5887345]], dtype=float32),\n",
              " array([[-0.5868496]], dtype=float32),\n",
              " array([[-0.5863018]], dtype=float32),\n",
              " array([[-0.58527434]], dtype=float32),\n",
              " array([[-0.5800493]], dtype=float32),\n",
              " array([[-0.5853504]], dtype=float32),\n",
              " array([[-0.58676386]], dtype=float32),\n",
              " array([[-0.59112036]], dtype=float32),\n",
              " array([[-0.5910467]], dtype=float32),\n",
              " array([[-0.59181523]], dtype=float32),\n",
              " array([[-0.5907737]], dtype=float32),\n",
              " array([[-0.59038246]], dtype=float32),\n",
              " array([[-0.59321916]], dtype=float32),\n",
              " array([[-0.5939599]], dtype=float32),\n",
              " array([[-0.59432006]], dtype=float32),\n",
              " array([[-0.59366286]], dtype=float32),\n",
              " array([[-0.59170115]], dtype=float32),\n",
              " array([[-0.5937902]], dtype=float32),\n",
              " array([[-0.5955175]], dtype=float32),\n",
              " array([[-0.5948801]], dtype=float32),\n",
              " array([[-0.5975349]], dtype=float32),\n",
              " array([[-0.59734]], dtype=float32),\n",
              " array([[-0.5975697]], dtype=float32),\n",
              " array([[-0.5967895]], dtype=float32),\n",
              " array([[-0.5957483]], dtype=float32),\n",
              " array([[-0.5966574]], dtype=float32),\n",
              " array([[-0.59593236]], dtype=float32),\n",
              " array([[-0.5963855]], dtype=float32),\n",
              " array([[-0.5955162]], dtype=float32),\n",
              " array([[-0.5957053]], dtype=float32),\n",
              " array([[-0.5947453]], dtype=float32),\n",
              " array([[-0.59868705]], dtype=float32),\n",
              " array([[-0.5992763]], dtype=float32),\n",
              " array([[-0.5994133]], dtype=float32),\n",
              " array([[-0.6003648]], dtype=float32),\n",
              " array([[-0.60015976]], dtype=float32),\n",
              " array([[-0.60035896]], dtype=float32),\n",
              " array([[-0.600068]], dtype=float32),\n",
              " array([[-0.6002505]], dtype=float32),\n",
              " array([[-0.601557]], dtype=float32),\n",
              " array([[-0.60109246]], dtype=float32),\n",
              " array([[-0.6011379]], dtype=float32),\n",
              " array([[-0.6014149]], dtype=float32),\n",
              " array([[-0.6009278]], dtype=float32),\n",
              " array([[-0.60109496]], dtype=float32),\n",
              " array([[-0.6015214]], dtype=float32),\n",
              " array([[-0.59976673]], dtype=float32),\n",
              " array([[-0.59921]], dtype=float32),\n",
              " array([[-0.5981647]], dtype=float32),\n",
              " array([[-0.59822595]], dtype=float32),\n",
              " array([[-0.598042]], dtype=float32),\n",
              " array([[-0.5981511]], dtype=float32),\n",
              " array([[-0.59825134]], dtype=float32),\n",
              " array([[-0.5973172]], dtype=float32),\n",
              " array([[-0.5979402]], dtype=float32),\n",
              " array([[-0.59749687]], dtype=float32),\n",
              " array([[-0.5987724]], dtype=float32),\n",
              " array([[-0.5990802]], dtype=float32),\n",
              " array([[-0.5995338]], dtype=float32),\n",
              " array([[-0.59930646]], dtype=float32),\n",
              " array([[-0.5982151]], dtype=float32),\n",
              " array([[-0.5984466]], dtype=float32),\n",
              " array([[-0.59804606]], dtype=float32),\n",
              " array([[-0.5982629]], dtype=float32),\n",
              " array([[-0.59821665]], dtype=float32),\n",
              " array([[-0.59681535]], dtype=float32),\n",
              " array([[-0.59700656]], dtype=float32),\n",
              " array([[-0.5973438]], dtype=float32),\n",
              " array([[-0.5969193]], dtype=float32),\n",
              " array([[-0.59654]], dtype=float32),\n",
              " array([[-0.598392]], dtype=float32),\n",
              " array([[-0.59997475]], dtype=float32),\n",
              " array([[-0.598436]], dtype=float32),\n",
              " array([[-0.5978062]], dtype=float32),\n",
              " array([[-0.59753203]], dtype=float32),\n",
              " array([[-0.5985038]], dtype=float32),\n",
              " array([[-0.59905744]], dtype=float32),\n",
              " array([[-0.5984254]], dtype=float32),\n",
              " array([[-0.60141647]], dtype=float32),\n",
              " array([[-0.60106635]], dtype=float32),\n",
              " array([[-0.6006707]], dtype=float32),\n",
              " array([[-0.60262835]], dtype=float32),\n",
              " array([[-0.6004149]], dtype=float32),\n",
              " array([[-0.59928715]], dtype=float32),\n",
              " array([[-0.5986228]], dtype=float32),\n",
              " array([[-0.598879]], dtype=float32),\n",
              " array([[-0.59866536]], dtype=float32),\n",
              " array([[-0.60144496]], dtype=float32),\n",
              " array([[-0.60143864]], dtype=float32),\n",
              " array([[-0.6015036]], dtype=float32),\n",
              " array([[-0.6017102]], dtype=float32),\n",
              " array([[-0.60000014]], dtype=float32),\n",
              " array([[-0.6015712]], dtype=float32),\n",
              " array([[-0.6022258]], dtype=float32),\n",
              " array([[-0.59747136]], dtype=float32),\n",
              " array([[-0.5982337]], dtype=float32),\n",
              " array([[-0.5979134]], dtype=float32),\n",
              " array([[-0.5983343]], dtype=float32),\n",
              " array([[-0.59657145]], dtype=float32),\n",
              " array([[-0.5960356]], dtype=float32),\n",
              " array([[-0.59363747]], dtype=float32),\n",
              " array([[-0.59329414]], dtype=float32),\n",
              " array([[-0.592363]], dtype=float32),\n",
              " array([[-0.5942404]], dtype=float32),\n",
              " array([[-0.5939381]], dtype=float32),\n",
              " array([[-0.59437335]], dtype=float32),\n",
              " array([[-0.59635913]], dtype=float32),\n",
              " array([[-0.596522]], dtype=float32),\n",
              " array([[-0.59568226]], dtype=float32),\n",
              " array([[-0.5971657]], dtype=float32),\n",
              " array([[-0.5941832]], dtype=float32),\n",
              " array([[-0.5957947]], dtype=float32),\n",
              " array([[-0.59522784]], dtype=float32),\n",
              " array([[-0.5960126]], dtype=float32),\n",
              " array([[-0.59564745]], dtype=float32),\n",
              " array([[-0.59114134]], dtype=float32),\n",
              " array([[-0.59052837]], dtype=float32),\n",
              " array([[-0.5925938]], dtype=float32),\n",
              " array([[-0.5917088]], dtype=float32),\n",
              " array([[-0.59234166]], dtype=float32),\n",
              " array([[-0.59368384]], dtype=float32),\n",
              " array([[-0.58575165]], dtype=float32),\n",
              " array([[-0.5853722]], dtype=float32),\n",
              " array([[-0.58649015]], dtype=float32),\n",
              " array([[-0.5868306]], dtype=float32),\n",
              " array([[-0.58667517]], dtype=float32),\n",
              " array([[-0.5844598]], dtype=float32),\n",
              " array([[-0.5844554]], dtype=float32),\n",
              " array([[-0.58538175]], dtype=float32),\n",
              " array([[-0.5858841]], dtype=float32),\n",
              " array([[-0.5901761]], dtype=float32),\n",
              " array([[-0.58933103]], dtype=float32),\n",
              " array([[-0.5901103]], dtype=float32),\n",
              " array([[-0.5891919]], dtype=float32),\n",
              " array([[-0.58994305]], dtype=float32),\n",
              " array([[-0.5874853]], dtype=float32),\n",
              " array([[-0.589764]], dtype=float32),\n",
              " array([[-0.59382594]], dtype=float32),\n",
              " array([[-0.5941379]], dtype=float32),\n",
              " array([[-0.59434485]], dtype=float32),\n",
              " array([[-0.5993329]], dtype=float32),\n",
              " array([[-0.59803545]], dtype=float32),\n",
              " array([[-0.5978302]], dtype=float32),\n",
              " array([[-0.59808886]], dtype=float32),\n",
              " array([[-0.5984448]], dtype=float32),\n",
              " array([[-0.59594524]], dtype=float32),\n",
              " array([[-0.5963279]], dtype=float32),\n",
              " array([[-0.59715116]], dtype=float32),\n",
              " array([[-0.59865654]], dtype=float32),\n",
              " array([[-0.5965289]], dtype=float32),\n",
              " array([[-0.5987966]], dtype=float32),\n",
              " array([[-0.5991782]], dtype=float32),\n",
              " array([[-0.5927088]], dtype=float32),\n",
              " array([[-0.59930944]], dtype=float32),\n",
              " array([[-0.60200644]], dtype=float32),\n",
              " array([[-0.60222554]], dtype=float32),\n",
              " array([[-0.6027278]], dtype=float32),\n",
              " array([[-0.6020348]], dtype=float32),\n",
              " array([[-0.60126173]], dtype=float32),\n",
              " array([[-0.60006607]], dtype=float32),\n",
              " array([[-0.60178125]], dtype=float32),\n",
              " array([[-0.6033647]], dtype=float32),\n",
              " array([[-0.6004331]], dtype=float32),\n",
              " array([[-0.6005049]], dtype=float32),\n",
              " array([[-0.5978209]], dtype=float32),\n",
              " array([[-0.6007805]], dtype=float32),\n",
              " array([[-0.6026567]], dtype=float32),\n",
              " array([[-0.5989131]], dtype=float32),\n",
              " array([[-0.59916997]], dtype=float32),\n",
              " array([[-0.59846056]], dtype=float32),\n",
              " array([[-0.5911219]], dtype=float32),\n",
              " array([[-0.5903261]], dtype=float32),\n",
              " array([[-0.5944215]], dtype=float32),\n",
              " array([[-0.5975524]], dtype=float32),\n",
              " array([[-0.5991814]], dtype=float32),\n",
              " array([[-0.6016747]], dtype=float32),\n",
              " array([[-0.60140646]], dtype=float32),\n",
              " array([[-0.6058903]], dtype=float32),\n",
              " array([[-0.60060024]], dtype=float32),\n",
              " array([[-0.61233366]], dtype=float32),\n",
              " array([[-0.6107738]], dtype=float32),\n",
              " array([[-0.60675013]], dtype=float32),\n",
              " array([[-0.60449195]], dtype=float32),\n",
              " array([[-0.62818336]], dtype=float32),\n",
              " array([[-0.5873796]], dtype=float32),\n",
              " array([[-0.5862826]], dtype=float32),\n",
              " array([[-0.5864829]], dtype=float32),\n",
              " array([[-0.58223414]], dtype=float32),\n",
              " array([[-0.5861218]], dtype=float32),\n",
              " array([[-0.5865675]], dtype=float32),\n",
              " array([[-0.5726528]], dtype=float32),\n",
              " array([[-0.5741383]], dtype=float32),\n",
              " array([[-0.57373536]], dtype=float32),\n",
              " array([[-0.5733167]], dtype=float32),\n",
              " array([[-0.5744606]], dtype=float32),\n",
              " array([[-0.5744268]], dtype=float32),\n",
              " array([[-0.5743115]], dtype=float32),\n",
              " array([[-0.5743115]], dtype=float32),\n",
              " array([[-0.5743115]], dtype=float32),\n",
              " array([[-0.5743115]], dtype=float32),\n",
              " array([[-0.5743115]], dtype=float32),\n",
              " array([[-0.5743115]], dtype=float32),\n",
              " array([[-0.5743115]], dtype=float32),\n",
              " array([[-0.5743115]], dtype=float32),\n",
              " array([[-0.5743115]], dtype=float32),\n",
              " array([[-0.5743115]], dtype=float32),\n",
              " array([[-0.5743115]], dtype=float32),\n",
              " array([[-0.5743115]], dtype=float32),\n",
              " array([[-0.5743115]], dtype=float32),\n",
              " array([[-0.5743115]], dtype=float32),\n",
              " array([[-0.5743115]], dtype=float32),\n",
              " array([[-0.5716249]], dtype=float32),\n",
              " array([[-0.5719274]], dtype=float32),\n",
              " array([[-0.5718396]], dtype=float32),\n",
              " array([[-0.57177556]], dtype=float32),\n",
              " array([[-0.5719894]], dtype=float32),\n",
              " array([[-0.57197964]], dtype=float32),\n",
              " array([[-0.5691352]], dtype=float32),\n",
              " array([[-0.5694506]], dtype=float32),\n",
              " array([[-0.5654645]], dtype=float32),\n",
              " array([[-0.5658289]], dtype=float32),\n",
              " array([[-0.5651195]], dtype=float32),\n",
              " array([[-0.5651107]], dtype=float32),\n",
              " array([[-0.56560695]], dtype=float32),\n",
              " array([[-0.56555045]], dtype=float32),\n",
              " array([[-0.5653416]], dtype=float32),\n",
              " array([[-0.56536996]], dtype=float32)]"
            ]
          },
          "metadata": {
            "tags": []
          },
          "execution_count": 15
        }
      ]
    },
    {
      "cell_type": "markdown",
      "metadata": {
        "id": "s0hrxXc6tWDH",
        "colab_type": "text"
      },
      "source": [
        "As we took the first 1000 points as a training set, we make predictions for time step greater\n",
        "than 1000."
      ]
    },
    {
      "cell_type": "code",
      "metadata": {
        "id": "56uSIUkGtWDI",
        "colab_type": "code",
        "outputId": "f260c514-4046-4a33-88a4-098a45975936",
        "colab": {
          "base_uri": "https://localhost:8080/",
          "height": 446
        }
      },
      "source": [
        "predictions = []\n",
        "for i in range(1000, 1266):\n",
        "  predictions.append(predicted_values_test[i-1000].reshape(1))\n",
        "     \n",
        "# Plot and see how well the predicted value matches the actual value:\n",
        "plt.figure(figsize=(16, 7))\n",
        "plt.plot(dataClose[1007:], label='Actual')\n",
        "plt.plot(predictions, label='Predicted')\n",
        "plt.legend()\n",
        "plt.xlabel('Days')\n",
        "plt.ylabel('Price')\n",
        "plt.grid()\n",
        "plt.show()\n",
        "\n",
        "# As you can see in the above plot, the actual value is shown in blue color and the predicted value is shown in orange color. \n",
        "# As we are making predictions for the time step greater than 1000, you can see after the time step 1000,\n",
        "# blue and orange lines interest each other, which implies that our model has correctly predicted the actual values."
      ],
      "execution_count": 0,
      "outputs": [
        {
          "output_type": "display_data",
          "data": {
            "image/png": "[encoded data removed]",
            "text/plain": [
              "<Figure size 1152x504 with 1 Axes>"
            ]
          },
          "metadata": {
            "tags": []
          }
        }
      ]
    },
    {
      "cell_type": "code",
      "metadata": {
        "id": "jr6RT6SD3TJ2",
        "colab_type": "code",
        "colab": {}
      },
      "source": [
        ""
      ],
      "execution_count": 0,
      "outputs": []
    }
  ]
}