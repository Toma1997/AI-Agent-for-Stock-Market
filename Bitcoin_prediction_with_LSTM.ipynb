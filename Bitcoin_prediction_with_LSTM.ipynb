{
  "nbformat": 4,
  "nbformat_minor": 0,
  "metadata": {
    "colab": {
      "name": "Bitcoin_prediction_with_LSTM.ipynb",
      "version": "0.3.2",
      "provenance": [],
      "collapsed_sections": []
    },
    "language_info": {
      "codemirror_mode": {
        "name": "ipython",
        "version": 3
      },
      "file_extension": ".py",
      "mimetype": "text/x-python",
      "name": "python",
      "nbconvert_exporter": "python",
      "pygments_lexer": "ipython3",
      "version": "3.6.0"
    },
    "kernelspec": {
      "display_name": "Python 3",
      "language": "python",
      "name": "python3"
    }
  },
  "cells": [
    {
      "cell_type": "markdown",
      "metadata": {
        "colab_type": "text",
        "id": "4wF-pBoTklLT"
      },
      "source": [
        "\n",
        "# Import Libraries\n",
        "\n",
        "First, we import the required libraries as follows:"
      ]
    },
    {
      "cell_type": "code",
      "metadata": {
        "id": "x6ONcOJ9tV-C",
        "colab_type": "code",
        "colab": {}
      },
      "source": [
        "import warnings\n",
        "warnings.filterwarnings('ignore')\n",
        "\n",
        "import numpy as np\n",
        "import pandas as pd\n",
        "from sklearn.preprocessing import StandardScaler # for normalizing our data (scalling)\n",
        "\n",
        "import matplotlib.pyplot as plt\n",
        "%matplotlib inline \n",
        "\n",
        "import tensorflow as tf # for LSTM implementation\n",
        "tf.logging.set_verbosity(tf.logging.ERROR) # it will log errors if occured\n",
        "\n",
        "from google.colab import files\n",
        "import io\n",
        "uploaded = files.upload() # upload dataset file from local machine"
      ],
      "execution_count": 0,
      "outputs": []
    },
    {
      "cell_type": "markdown",
      "metadata": {
        "id": "vf9cD4FQtV-u",
        "colab_type": "text"
      },
      "source": [
        "## Data Preparation \n",
        "\n",
        "We will see how can we prepare our dataset in a way that LSTM needs. First, we read the input dataset:"
      ]
    },
    {
      "cell_type": "code",
      "metadata": {
        "id": "yWUhBRALtV-w",
        "colab_type": "code",
        "colab": {
          "base_uri": "https://localhost:8080/",
          "height": 204
        },
        "outputId": "e2c4a868-671e-48be-e916-987b513d1031"
      },
      "source": [
        "dataframe = pd.read_csv(io.BytesIO(uploaded['bitcoin_data.csv']))\n",
        "\n",
        "# Display a few rows of the dataset as follows:\n",
        "dataframe.head()"
      ],
      "execution_count": 96,
      "outputs": [
        {
          "output_type": "execute_result",
          "data": {
            "text/html": [
              "<div>\n",
              "<style scoped>\n",
              "    .dataframe tbody tr th:only-of-type {\n",
              "        vertical-align: middle;\n",
              "    }\n",
              "\n",
              "    .dataframe tbody tr th {\n",
              "        vertical-align: top;\n",
              "    }\n",
              "\n",
              "    .dataframe thead th {\n",
              "        text-align: right;\n",
              "    }\n",
              "</style>\n",
              "<table border=\"1\" class=\"dataframe\">\n",
              "  <thead>\n",
              "    <tr style=\"text-align: right;\">\n",
              "      <th></th>\n",
              "      <th>Date</th>\n",
              "      <th>Symbol</th>\n",
              "      <th>Open</th>\n",
              "      <th>High</th>\n",
              "      <th>Low</th>\n",
              "      <th>Close</th>\n",
              "      <th>Volume From</th>\n",
              "      <th>Volume To</th>\n",
              "    </tr>\n",
              "  </thead>\n",
              "  <tbody>\n",
              "    <tr>\n",
              "      <th>0</th>\n",
              "      <td>5/26/2018</td>\n",
              "      <td>BTCUSD</td>\n",
              "      <td>7459.11</td>\n",
              "      <td>7640.46</td>\n",
              "      <td>7380.00</td>\n",
              "      <td>7520.00</td>\n",
              "      <td>2722.80</td>\n",
              "      <td>2.042265e+07</td>\n",
              "    </tr>\n",
              "    <tr>\n",
              "      <th>1</th>\n",
              "      <td>5/25/2018</td>\n",
              "      <td>BTCUSD</td>\n",
              "      <td>7584.15</td>\n",
              "      <td>7661.85</td>\n",
              "      <td>7326.94</td>\n",
              "      <td>7459.11</td>\n",
              "      <td>8491.93</td>\n",
              "      <td>6.342069e+07</td>\n",
              "    </tr>\n",
              "    <tr>\n",
              "      <th>2</th>\n",
              "      <td>5/24/2018</td>\n",
              "      <td>BTCUSD</td>\n",
              "      <td>7505.00</td>\n",
              "      <td>7734.99</td>\n",
              "      <td>7269.00</td>\n",
              "      <td>7584.15</td>\n",
              "      <td>11033.72</td>\n",
              "      <td>8.293137e+07</td>\n",
              "    </tr>\n",
              "    <tr>\n",
              "      <th>3</th>\n",
              "      <td>5/23/2018</td>\n",
              "      <td>BTCUSD</td>\n",
              "      <td>7987.70</td>\n",
              "      <td>8030.00</td>\n",
              "      <td>7433.19</td>\n",
              "      <td>7505.00</td>\n",
              "      <td>14905.99</td>\n",
              "      <td>1.148104e+08</td>\n",
              "    </tr>\n",
              "    <tr>\n",
              "      <th>4</th>\n",
              "      <td>5/22/2018</td>\n",
              "      <td>BTCUSD</td>\n",
              "      <td>8393.44</td>\n",
              "      <td>8400.00</td>\n",
              "      <td>7950.00</td>\n",
              "      <td>7987.70</td>\n",
              "      <td>6589.43</td>\n",
              "      <td>5.389753e+07</td>\n",
              "    </tr>\n",
              "  </tbody>\n",
              "</table>\n",
              "</div>"
            ],
            "text/plain": [
              "        Date  Symbol     Open  ...    Close  Volume From     Volume To\n",
              "0  5/26/2018  BTCUSD  7459.11  ...  7520.00      2722.80  2.042265e+07\n",
              "1  5/25/2018  BTCUSD  7584.15  ...  7459.11      8491.93  6.342069e+07\n",
              "2  5/24/2018  BTCUSD  7505.00  ...  7584.15     11033.72  8.293137e+07\n",
              "3  5/23/2018  BTCUSD  7987.70  ...  7505.00     14905.99  1.148104e+08\n",
              "4  5/22/2018  BTCUSD  8393.44  ...  7987.70      6589.43  5.389753e+07\n",
              "\n",
              "[5 rows x 8 columns]"
            ]
          },
          "metadata": {
            "tags": []
          },
          "execution_count": 96
        }
      ]
    },
    {
      "cell_type": "markdown",
      "metadata": {
        "id": "YEdZvxmvtV_A",
        "colab_type": "text"
      },
      "source": [
        "As shown in the above data frame, the column Close represents the closing price of bitcoins. We need only the column Close to make predictions, so we take that particular column alone as follows:"
      ]
    },
    {
      "cell_type": "code",
      "metadata": {
        "scrolled": true,
        "id": "GlrhBp95tV_D",
        "colab_type": "code",
        "colab": {
          "base_uri": "https://localhost:8080/",
          "height": 136
        },
        "outputId": "f55e1cb9-cac6-4f0a-e38b-4063df281ac4"
      },
      "source": [
        "dataClose = dataframe['Close'].values\n",
        "\n",
        "# Next, we standardize the data and bring it to the same scale\n",
        "scaler = StandardScaler()\n",
        "dataClose = scaler.fit_transform(dataClose.reshape(-1, 1)) # fit to data, thrn transform it for LSTM functions\n",
        "dataClose"
      ],
      "execution_count": 98,
      "outputs": [
        {
          "output_type": "execute_result",
          "data": {
            "text/plain": [
              "array([[ 1.32443891],\n",
              "       [ 1.30836052],\n",
              "       [ 1.34137813],\n",
              "       ...,\n",
              "       [-0.56145134],\n",
              "       [-0.56145134],\n",
              "       [-0.56356379]])"
            ]
          },
          "metadata": {
            "tags": []
          },
          "execution_count": 98
        }
      ]
    },
    {
      "cell_type": "markdown",
      "metadata": {
        "id": "Df0cdXc5tV_R",
        "colab_type": "text"
      },
      "source": [
        "Plot and observe the trend of how the bitcoins price changes as follows, Since we scaled the price, it is not a bigger number:"
      ]
    },
    {
      "cell_type": "code",
      "metadata": {
        "scrolled": false,
        "id": "KGrKPFHNtV_T",
        "colab_type": "code",
        "colab": {
          "base_uri": "https://localhost:8080/",
          "height": 283
        },
        "outputId": "9b668726-b805-4787-a6e8-99d20aa15963"
      },
      "source": [
        "plt.plot(dataClose)\n",
        "plt.xlabel('Days')\n",
        "plt.ylabel('Price')\n",
        "plt.grid()"
      ],
      "execution_count": 99,
      "outputs": [
        {
          "output_type": "display_data",
          "data": {
            "image/png": "[encoded data removed]",
            "text/plain": [
              "<Figure size 432x288 with 1 Axes>"
            ]
          },
          "metadata": {
            "tags": []
          }
        }
      ]
    },
    {
      "cell_type": "markdown",
      "metadata": {
        "id": "oXMgg9detV_b",
        "colab_type": "text"
      },
      "source": [
        "We define a function called get_data which generates the input and output. It takes the data and window_size as an input and generates the input and target column.\n",
        "\n",
        "What is window size? We move the x values window_size times ahead and get the y values. For instance, as shown in the below table with window_size = 1, Y values are just 1-time step ahead of x values.\n",
        "\n",
        "X = 0.13, 0.56, 0.11, 0.40\n",
        "\n",
        "Y = 0.56, 0.11, 0.40, 0.63\n",
        "\n",
        "The get_data() function is defined as follows: "
      ]
    },
    {
      "cell_type": "code",
      "metadata": {
        "id": "nED9dpH0tV_d",
        "colab_type": "code",
        "colab": {}
      },
      "source": [
        "def get_data(data, window_size):\n",
        "    X = []\n",
        "    y = []\n",
        "    i = 0\n",
        "    while (i + window_size) <= len(data) - 1:\n",
        "        X.append(data[i:i+window_size])\n",
        "        y.append(data[i+window_size])\n",
        "        \n",
        "        i += 1\n",
        "    assert len(X) ==  len(y)\n",
        "    return X, y\n"
      ],
      "execution_count": 0,
      "outputs": []
    },
    {
      "cell_type": "markdown",
      "metadata": {
        "id": "YQerqiO8tV_i",
        "colab_type": "text"
      },
      "source": [
        "We choose window size as 7 and generate the input and output:"
      ]
    },
    {
      "cell_type": "code",
      "metadata": {
        "id": "acNlLWkmtV_k",
        "colab_type": "code",
        "colab": {}
      },
      "source": [
        "X, y = get_data(dataClose, window_size = 7)"
      ],
      "execution_count": 0,
      "outputs": []
    },
    {
      "cell_type": "markdown",
      "metadata": {
        "id": "ql9sIQLptV_p",
        "colab_type": "text"
      },
      "source": [
        "Consider the first 1000 points as a train set and the rest of the points in the dataset as the test set:"
      ]
    },
    {
      "cell_type": "code",
      "metadata": {
        "id": "N3mKixSOtV_r",
        "colab_type": "code",
        "colab": {
          "base_uri": "https://localhost:8080/",
          "height": 34
        },
        "outputId": "c8ee26f5-e334-4047-ce02-d15418354e99"
      },
      "source": [
        "#train set, first 1000 values\n",
        "X_train  = np.array(X[:1000]) \n",
        "y_train = np.array(y[:1000])\n",
        "\n",
        "#test set, last 273 values\n",
        "X_test = np.array(X[1000:])\n",
        "y_test = np.array(y[1000:])\n",
        "\n",
        "# The shape of X_train is shown:\n",
        "X_train.shape"
      ],
      "execution_count": 100,
      "outputs": [
        {
          "output_type": "execute_result",
          "data": {
            "text/plain": [
              "(1000, 7, 1)"
            ]
          },
          "metadata": {
            "tags": []
          },
          "execution_count": 100
        }
      ]
    },
    {
      "cell_type": "markdown",
      "metadata": {
        "id": "CrnjJkIttV_8",
        "colab_type": "text"
      },
      "source": [
        "\n",
        "What does the preceding shape mean? It implies that (sample_size, time_steps, features). LSTM requires input exactly in this format, for example:\n",
        "\n",
        "* 1000 implies the number of data points (sample_size)\n",
        "\n",
        "* 7 specifies the window size (time_steps) \n",
        "\n",
        "* 1 specifies the dimension of our dataset (features) "
      ]
    },
    {
      "cell_type": "markdown",
      "metadata": {
        "id": "9hu1iEJZtV_-",
        "colab_type": "text"
      },
      "source": [
        "## Defining Network Parameters\n",
        "\n",
        "Define the network parameters:"
      ]
    },
    {
      "cell_type": "code",
      "metadata": {
        "id": "BeWN0eGjtV__",
        "colab_type": "code",
        "colab": {}
      },
      "source": [
        "batch_size = 7\n",
        "window_size = 7 \n",
        "hidden_layer = 256 \n",
        "learning_rate = 0.001 "
      ],
      "execution_count": 0,
      "outputs": []
    },
    {
      "cell_type": "markdown",
      "metadata": {
        "id": "qclEUof0tWAF",
        "colab_type": "text"
      },
      "source": [
        "## Defining Placeholders\n",
        "\n",
        "Define the placeholders for our input and output:"
      ]
    },
    {
      "cell_type": "code",
      "metadata": {
        "id": "UCK0lvoUtWAH",
        "colab_type": "code",
        "colab": {}
      },
      "source": [
        "inputPlaceholder = tf.placeholder(tf.float32, [batch_size, window_size, 1])\n",
        "outputPlaceholder = tf.placeholder(tf.float32, [batch_size, 1])"
      ],
      "execution_count": 0,
      "outputs": []
    },
    {
      "cell_type": "markdown",
      "metadata": {
        "id": "3tF-MQqLtWAO",
        "colab_type": "text"
      },
      "source": [
        "## Defining weights\n",
        "\n",
        "Let's define all the weights we use in our LSTM cell."
      ]
    },
    {
      "cell_type": "code",
      "metadata": {
        "id": "ojzpe6g4tWAP",
        "colab_type": "code",
        "colab": {}
      },
      "source": [
        "# Weights of the input gate:\n",
        "U_i = tf.Variable(tf.truncated_normal([1, hidden_layer], stddev=0.05))\n",
        "W_i = tf.Variable(tf.truncated_normal([hidden_layer, hidden_layer], stddev=0.05))\n",
        "b_i = tf.Variable(tf.zeros([hidden_layer]))\n",
        "\n",
        "# Weights of the forget gate:\n",
        "U_f = tf.Variable(tf.truncated_normal([1, hidden_layer], stddev=0.05))\n",
        "W_f = tf.Variable(tf.truncated_normal([hidden_layer, hidden_layer], stddev=0.05))\n",
        "b_f = tf.Variable(tf.zeros([hidden_layer]))\n",
        "\n",
        "# Weights of the output gate:\n",
        "U_o = tf.Variable(tf.truncated_normal([1, hidden_layer], stddev=0.05))\n",
        "W_o = tf.Variable(tf.truncated_normal([hidden_layer, hidden_layer], stddev=0.05))\n",
        "b_o = tf.Variable(tf.zeros([hidden_layer]))\n",
        "\n",
        "# Weights of the candidate state:\n",
        "U_g = tf.Variable(tf.truncated_normal([1, hidden_layer], stddev=0.05))\n",
        "W_g = tf.Variable(tf.truncated_normal([hidden_layer, hidden_layer], stddev=0.05))\n",
        "b_g = tf.Variable(tf.zeros([hidden_layer]))\n",
        "\n",
        "# Output layer weight:\n",
        "V = tf.Variable(tf.truncated_normal([hidden_layer, 1], stddev=0.05))\n",
        "b_v = tf.Variable(tf.zeros([1]))"
      ],
      "execution_count": 0,
      "outputs": []
    },
    {
      "cell_type": "markdown",
      "metadata": {
        "id": "MZJ--FN_tWA7",
        "colab_type": "text"
      },
      "source": [
        "## Define the LSTM cell\n",
        "\n",
        "\n",
        "\n",
        "We define the function called LSTM_cell, which returns the cell state and hidden state as an output. Recall the steps we saw in the forward propagation of LSTM:\n",
        "\n",
        " $$ i_t = \\sigma ( U_i x_t + W_f h_{t-1} + b_i)  $$\n",
        "\n",
        "$$ f_t = \\sigma ( U_f x_t + W_f h_{t-1} + b_f)  $$\n",
        "\n",
        "$$  o_t = \\sigma (U_o x_t + W_o h_{t-1} + b_o)  $$\n",
        "\n",
        "$$ g_t  = tanh (U_g x_t + W_g h_{t-1} + b_g)  $$\n",
        "\n",
        "$$ c_t = f_t  c_{t-1} + i_t {g_t}  $$\n",
        "\n",
        "$$ h_t = o_t tanh(c_t)  $$\n",
        "\n",
        "The LSTM cell is implemented as shown in the following code. It takes the input, previous hidden state, and previous cell state as inputs, and returns the current cell state and current hidden state."
      ]
    },
    {
      "cell_type": "code",
      "metadata": {
        "id": "YlIStHU_tWA-",
        "colab_type": "code",
        "colab": {}
      },
      "source": [
        "def LSTM_cell(inputPlaceholder, prev_hidden_state, prev_cell_state):\n",
        "    input_gate = tf.sigmoid(tf.matmul(inputPlaceholder, U_i) + tf.matmul(prev_hidden_state, W_i) + b_i)\n",
        "    forget_gate = tf.sigmoid(tf.matmul(inputPlaceholder, U_f) + tf.matmul(prev_hidden_state, W_f) + b_f)\n",
        "    output_gate = tf.sigmoid(tf.matmul(inputPlaceholder, U_o) + tf.matmul(prev_hidden_state, W_o) + b_o)\n",
        "    memory_cell = tf.tanh(tf.matmul(inputPlaceholder, U_g) + tf.matmul(prev_hidden_state, W_g) + b_g)\n",
        "    \n",
        "    state = (prev_cell_state * forget_gate) + (input_gate * memory_cell)\n",
        "    output = output_gate * tf.tanh(state)\n",
        "    \n",
        "    return state, output"
      ],
      "execution_count": 0,
      "outputs": []
    },
    {
      "cell_type": "markdown",
      "metadata": {
        "id": "hzVSzFJitWBJ",
        "colab_type": "text"
      },
      "source": [
        "## Defining forward propagation\n",
        "\n",
        "\n",
        "Now, we will perform forward propagation and predict the output, $\\hat{y}_t$. \n",
        "\n",
        "$$ \\hat{y}_t = Vh_t + b_v$$"
      ]
    },
    {
      "cell_type": "code",
      "metadata": {
        "id": "A3aHBa3etWBL",
        "colab_type": "code",
        "colab": {}
      },
      "source": [
        "#initialize the list called y_hat for storing the predicted output\n",
        "y_hat = []\n",
        "\n",
        "#for each batch we compute the output and store it in the y_hat list\n",
        "for i in range(batch_size): \n",
        "  \n",
        "    #initialize hidden state and cell state for each batch\n",
        "    hidden_state = np.zeros([1, hidden_layer], dtype=np.float32) \n",
        "    cell_state = np.zeros([1, hidden_layer], dtype=np.float32)\n",
        "    \n",
        "    \n",
        "    #compute the hidden state and cell state of the LSTM cell for each time step\n",
        "    for t in range(window_size):\n",
        "        cell_state, hidden_state = LSTM_cell(tf.reshape(inputPlaceholder[i][t], (-1, 1)), hidden_state, cell_state)\n",
        "        \n",
        "    #compute y_hat and append it to y_hat list\n",
        "    y_hat.append(tf.matmul(hidden_state, V) + b_v)"
      ],
      "execution_count": 0,
      "outputs": []
    },
    {
      "cell_type": "markdown",
      "metadata": {
        "id": "PAmbRTCFtWBQ",
        "colab_type": "text"
      },
      "source": [
        "## Defining backpropagation\n",
        "\n",
        "After performing forward propagation and predicting the output, we compute the loss. We use mean squared error as our loss function and the total loss is the sum of losses across all the time steps as follows:"
      ]
    },
    {
      "cell_type": "code",
      "metadata": {
        "id": "6s5PqDbttWBR",
        "colab_type": "code",
        "colab": {}
      },
      "source": [
        "losses = []\n",
        "\n",
        "for i in range(len(y_hat)):\n",
        "    losses.append(tf.losses.mean_squared_error(tf.reshape(outputPlaceholder[i], (-1, 1)), y_hat[i]))\n",
        "    \n",
        "loss = tf.reduce_mean(losses)"
      ],
      "execution_count": 0,
      "outputs": []
    },
    {
      "cell_type": "markdown",
      "metadata": {
        "id": "KBK_c5WHtWBW",
        "colab_type": "text"
      },
      "source": [
        "To avoid the exploding gradient problem, we perform gradient clipping:"
      ]
    },
    {
      "cell_type": "code",
      "metadata": {
        "id": "7AosRqOxtWBX",
        "colab_type": "code",
        "colab": {}
      },
      "source": [
        "gradients = tf.gradients(loss, tf.trainable_variables())\n",
        "clipped, _ = tf.clip_by_global_norm(gradients, 4.0)"
      ],
      "execution_count": 0,
      "outputs": []
    },
    {
      "cell_type": "markdown",
      "metadata": {
        "id": "ziyTDDsctWBc",
        "colab_type": "text"
      },
      "source": [
        "We use Adam optimizer and minimize our loss function:"
      ]
    },
    {
      "cell_type": "code",
      "metadata": {
        "id": "Wa2gqb_xtWBf",
        "colab_type": "code",
        "colab": {}
      },
      "source": [
        "optimizer = tf.train.AdamOptimizer(learning_rate).apply_gradients(zip(gradients, tf.trainable_variables()))"
      ],
      "execution_count": 0,
      "outputs": []
    },
    {
      "cell_type": "markdown",
      "metadata": {
        "id": "Vm-TpM4dtWBu",
        "colab_type": "text"
      },
      "source": [
        "## Training the LSTM model\n",
        "\n",
        "\n",
        "Start the TensorFlow session and initialize all the variables:"
      ]
    },
    {
      "cell_type": "code",
      "metadata": {
        "id": "Z7JGCleGtWBv",
        "colab_type": "code",
        "colab": {}
      },
      "source": [
        "session = tf.Session()\n",
        "session.run(tf.global_variables_initializer())"
      ],
      "execution_count": 0,
      "outputs": []
    },
    {
      "cell_type": "markdown",
      "metadata": {
        "id": "cOHk0Cc0tWB0",
        "colab_type": "text"
      },
      "source": [
        "Set the number of epochs:"
      ]
    },
    {
      "cell_type": "code",
      "metadata": {
        "id": "zUyNJiO5tWB2",
        "colab_type": "code",
        "colab": {}
      },
      "source": [
        "epochs = 100"
      ],
      "execution_count": 0,
      "outputs": []
    },
    {
      "cell_type": "code",
      "metadata": {
        "id": "nUJViIeZtWB7",
        "colab_type": "code",
        "colab": {
          "base_uri": "https://localhost:8080/",
          "height": 187
        },
        "outputId": "ae3c45f9-2e95-44e1-99ad-402f6bae03ff"
      },
      "source": [
        "for i in range(1, epochs+1):\n",
        "    train_predictions = []\n",
        "    index = 0\n",
        "    epoch_loss = []\n",
        "    \n",
        "    #Sample some batche of data and train the network\n",
        "    while(index + batch_size) <= len(X_train):\n",
        "        \n",
        "        #sample batch of data\n",
        "        X_batch = X_train[index:index+batch_size]\n",
        "        y_batch = y_train[index:index+batch_size]\n",
        "        \n",
        "        #predict the prices and compute loss\n",
        "        predicted, loss_val, _ = session.run([y_hat, loss, optimizer], feed_dict={inputPlaceholder:X_batch, outputPlaceholder:y_batch})\n",
        "        \n",
        "        #store the loss\n",
        "        epoch_loss.append(loss_val)\n",
        "        \n",
        "        #store the predictions\n",
        "        train_predictions.append(predicted)\n",
        "        index += batch_size\n",
        "        \n",
        "        \n",
        "    #print the loss on every 10 iterations\n",
        "    if (i % 10)== 0:\n",
        "        print('Epoch {}, Loss: {} '.format(i,np.mean(epoch_loss)))\n",
        "        "
      ],
      "execution_count": 72,
      "outputs": [
        {
          "output_type": "stream",
          "text": [
            "Epoch 0, Loss: 0.1974003165960312 \n",
            "Epoch 10, Loss: 0.04612082988023758 \n",
            "Epoch 20, Loss: 0.026473088189959526 \n",
            "Epoch 30, Loss: 0.016945650801062584 \n",
            "Epoch 40, Loss: 0.011989578604698181 \n",
            "Epoch 50, Loss: 0.01603507809340954 \n",
            "Epoch 60, Loss: 0.008690208196640015 \n",
            "Epoch 70, Loss: 0.01041472889482975 \n",
            "Epoch 80, Loss: 0.009024037048220634 \n",
            "Epoch 90, Loss: 0.00800042599439621 \n"
          ],
          "name": "stdout"
        }
      ]
    },
    {
      "cell_type": "markdown",
      "metadata": {
        "id": "AhOZfKUbtWCT",
        "colab_type": "text"
      },
      "source": [
        "## Making predictions using the LSTM model\n",
        "\n",
        "Now, we will start making predictions on the test set."
      ]
    },
    {
      "cell_type": "code",
      "metadata": {
        "id": "PATNe-Z5tWCW",
        "colab_type": "code",
        "colab": {}
      },
      "source": [
        "predicted_output = []\n",
        "i = 0\n",
        "while i+batch_size <= len(X_test): \n",
        "  \n",
        "    output = session.run([y_hat],feed_dict={inputPlaceholder:X_test[i:i+batch_size]})\n",
        "    i += batch_size\n",
        "    predicted_output.append(output)"
      ],
      "execution_count": 0,
      "outputs": []
    },
    {
      "cell_type": "markdown",
      "metadata": {
        "id": "_QS8XGMUtWCk",
        "colab_type": "text"
      },
      "source": [
        "Print the predicted output"
      ]
    },
    {
      "cell_type": "code",
      "metadata": {
        "id": "8uoVxV5stWCl",
        "colab_type": "code",
        "colab": {
          "base_uri": "https://localhost:8080/",
          "height": 136
        },
        "outputId": "12cac720-d6d8-4638-f94c-978f1d9037af"
      },
      "source": [
        "predicted_output[0]"
      ],
      "execution_count": 74,
      "outputs": [
        {
          "output_type": "execute_result",
          "data": {
            "text/plain": [
              "[[array([[-0.6051648]], dtype=float32),\n",
              "  array([[-0.60201555]], dtype=float32),\n",
              "  array([[-0.6010114]], dtype=float32),\n",
              "  array([[-0.60018414]], dtype=float32),\n",
              "  array([[-0.59972805]], dtype=float32),\n",
              "  array([[-0.6015558]], dtype=float32),\n",
              "  array([[-0.59730077]], dtype=float32)]]"
            ]
          },
          "metadata": {
            "tags": []
          },
          "execution_count": 74
        }
      ]
    },
    {
      "cell_type": "markdown",
      "metadata": {
        "id": "r6Km2s4ZtWCx",
        "colab_type": "text"
      },
      "source": [
        "As you can see above, the predicted values are in a nested list. So we will just flatten them."
      ]
    },
    {
      "cell_type": "code",
      "metadata": {
        "id": "ADdn35lUtWC3",
        "colab_type": "code",
        "colab": {}
      },
      "source": [
        "predicted_values_test = []\n",
        "for i in range(len(predicted_output)):\n",
        "    for j in range(len(predicted_output[i][0])):\n",
        "        predicted_values_test.append(predicted_output[i][0][j])"
      ],
      "execution_count": 0,
      "outputs": []
    },
    {
      "cell_type": "markdown",
      "metadata": {
        "id": "A5HtLuTxtWC9",
        "colab_type": "text"
      },
      "source": [
        "Now if we print the predicted values, it is no longer in a nested list"
      ]
    },
    {
      "cell_type": "code",
      "metadata": {
        "id": "gifUdoCetWC_",
        "colab_type": "code",
        "colab": {
          "base_uri": "https://localhost:8080/",
          "height": 34
        },
        "outputId": "0de244ae-3848-4840-8b00-fe454d3f28ac"
      },
      "source": [
        "predicted_values_test[0]"
      ],
      "execution_count": 76,
      "outputs": [
        {
          "output_type": "execute_result",
          "data": {
            "text/plain": [
              "array([[-0.6051648]], dtype=float32)"
            ]
          },
          "metadata": {
            "tags": []
          },
          "execution_count": 76
        }
      ]
    },
    {
      "cell_type": "markdown",
      "metadata": {
        "id": "s0hrxXc6tWDH",
        "colab_type": "text"
      },
      "source": [
        "As we took the first 1000 points as a training set, we make predictions for time step greater\n",
        "than 1000."
      ]
    },
    {
      "cell_type": "code",
      "metadata": {
        "id": "56uSIUkGtWDI",
        "colab_type": "code",
        "colab": {}
      },
      "source": [
        "predictions = []\n",
        "for i in range(1280):\n",
        "    if i >= 1000:\n",
        "        predictions.append(predicted_values_test[i-1019])\n",
        "    else:\n",
        "        predictions.append(None)"
      ],
      "execution_count": 0,
      "outputs": []
    },
    {
      "cell_type": "markdown",
      "metadata": {
        "id": "_SLTUTzFtWDQ",
        "colab_type": "text"
      },
      "source": [
        "Plot and see how well the predicted value matches the actual value:\n",
        "\n"
      ]
    },
    {
      "cell_type": "code",
      "metadata": {
        "id": "wqbNfXVNtWDW",
        "colab_type": "code",
        "colab": {
          "base_uri": "https://localhost:8080/",
          "height": 446
        },
        "outputId": "86f59954-46a3-499f-ed52-d1da88a14d09"
      },
      "source": [
        "plt.figure(figsize=(16, 7))\n",
        "plt.plot(dataClose, label='Actual')\n",
        "plt.plot(predictions, label='Predicted')\n",
        "plt.legend()\n",
        "plt.xlabel('Days')\n",
        "plt.ylabel('Price')\n",
        "plt.grid()\n",
        "plt.show()"
      ],
      "execution_count": 79,
      "outputs": [
        {
          "output_type": "display_data",
          "data": {
            "image/png": "[encoded data removed]",
            "text/plain": [
              "<Figure size 1152x504 with 1 Axes>"
            ]
          },
          "metadata": {
            "tags": []
          }
        }
      ]
    },
    {
      "cell_type": "markdown",
      "metadata": {
        "id": "bmZmp0f7tWDf",
        "colab_type": "text"
      },
      "source": [
        "As you can see in the above plot, the actual value is shown in red color and the predicted value is shown in blue color. As we are making predictions for the time step greater than 1000, you can see after the time step 1000, red and blue lines interest each other, which implies that our model has correctly predicted the actual values.\n",
        "\n",
        "In the next section, we will learn about the GRU cell which acts as a simplified version of GRU cell."
      ]
    }
  ]
}