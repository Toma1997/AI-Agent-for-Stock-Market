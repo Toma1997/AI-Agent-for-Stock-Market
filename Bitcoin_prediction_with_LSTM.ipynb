{
  "nbformat": 4,
  "nbformat_minor": 0,
  "metadata": {
    "colab": {
      "name": "Bitcoin_prediction_with_LSTM.ipynb",
      "version": "0.3.2",
      "provenance": [],
      "collapsed_sections": []
    },
    "language_info": {
      "codemirror_mode": {
        "name": "ipython",
        "version": 3
      },
      "file_extension": ".py",
      "mimetype": "text/x-python",
      "name": "python",
      "nbconvert_exporter": "python",
      "pygments_lexer": "ipython3",
      "version": "3.6.0"
    },
    "kernelspec": {
      "name": "python3",
      "display_name": "Python 3"
    },
    "accelerator": "TPU"
  },
  "cells": [
    {
      "cell_type": "code",
      "metadata": {
        "id": "x6ONcOJ9tV-C",
        "colab_type": "code",
        "colab": {
          "resources": {
            "http://localhost:8080/nbextensions/google.colab/files.js": {
              "data": "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",
              "ok": true,
              "headers": [
                [
                  "content-type",
                  "application/javascript"
                ]
              ],
              "status": 200,
              "status_text": ""
            }
          },
          "base_uri": "https://localhost:8080/",
          "height": 74
        },
        "outputId": "14c4845a-d2ca-44ed-96a1-5b912260bc23"
      },
      "source": [
        "import warnings\n",
        "warnings.filterwarnings('ignore')\n",
        "\n",
        "import numpy as np\n",
        "import pandas as pd\n",
        "from sklearn.preprocessing import StandardScaler # for normalizing our data (scalling)\n",
        "\n",
        "import matplotlib.pyplot as plt\n",
        "%matplotlib inline \n",
        "\n",
        "import tensorflow as tf # for LSTM implementation\n",
        "tf.logging.set_verbosity(tf.logging.ERROR) # it will log errors if occured\n",
        "\n",
        "from google.colab import files\n",
        "import io\n",
        "uploaded = files.upload() # upload dataset file from local machine"
      ],
      "execution_count": 1,
      "outputs": [
        {
          "output_type": "display_data",
          "data": {
            "text/html": [
              "\n",
              "     <input type=\"file\" id=\"files-93d515b7-6af1-4fe9-a045-a3ecaedfdbbd\" name=\"files[]\" multiple disabled />\n",
              "     <output id=\"result-93d515b7-6af1-4fe9-a045-a3ecaedfdbbd\">\n",
              "      Upload widget is only available when the cell has been executed in the\n",
              "      current browser session. Please rerun this cell to enable.\n",
              "      </output>\n",
              "      <script src=\"/nbextensions/google.colab/files.js\"></script> "
            ],
            "text/plain": [
              "<IPython.core.display.HTML object>"
            ]
          },
          "metadata": {
            "tags": []
          }
        },
        {
          "output_type": "stream",
          "text": [
            "Saving bitcoin_data.csv to bitcoin_data.csv\n"
          ],
          "name": "stdout"
        }
      ]
    },
    {
      "cell_type": "code",
      "metadata": {
        "id": "yWUhBRALtV-w",
        "colab_type": "code",
        "outputId": "fcfd686a-973b-4616-b423-a5aba16c9ea1",
        "colab": {
          "base_uri": "https://localhost:8080/",
          "height": 204
        }
      },
      "source": [
        "dataframe = pd.read_csv(io.BytesIO(uploaded['bitcoin_data.csv']))\n",
        "\n",
        "# Display a few rows of the dataset as follows:\n",
        "dataframe.head()"
      ],
      "execution_count": 2,
      "outputs": [
        {
          "output_type": "execute_result",
          "data": {
            "text/html": [
              "<div>\n",
              "<style scoped>\n",
              "    .dataframe tbody tr th:only-of-type {\n",
              "        vertical-align: middle;\n",
              "    }\n",
              "\n",
              "    .dataframe tbody tr th {\n",
              "        vertical-align: top;\n",
              "    }\n",
              "\n",
              "    .dataframe thead th {\n",
              "        text-align: right;\n",
              "    }\n",
              "</style>\n",
              "<table border=\"1\" class=\"dataframe\">\n",
              "  <thead>\n",
              "    <tr style=\"text-align: right;\">\n",
              "      <th></th>\n",
              "      <th>Date</th>\n",
              "      <th>Symbol</th>\n",
              "      <th>Open</th>\n",
              "      <th>High</th>\n",
              "      <th>Low</th>\n",
              "      <th>Close</th>\n",
              "      <th>Volume From</th>\n",
              "      <th>Volume To</th>\n",
              "    </tr>\n",
              "  </thead>\n",
              "  <tbody>\n",
              "    <tr>\n",
              "      <th>0</th>\n",
              "      <td>5/26/2018</td>\n",
              "      <td>BTCUSD</td>\n",
              "      <td>7459.11</td>\n",
              "      <td>7640.46</td>\n",
              "      <td>7380.00</td>\n",
              "      <td>7520.00</td>\n",
              "      <td>2722.80</td>\n",
              "      <td>2.042265e+07</td>\n",
              "    </tr>\n",
              "    <tr>\n",
              "      <th>1</th>\n",
              "      <td>5/25/2018</td>\n",
              "      <td>BTCUSD</td>\n",
              "      <td>7584.15</td>\n",
              "      <td>7661.85</td>\n",
              "      <td>7326.94</td>\n",
              "      <td>7459.11</td>\n",
              "      <td>8491.93</td>\n",
              "      <td>6.342069e+07</td>\n",
              "    </tr>\n",
              "    <tr>\n",
              "      <th>2</th>\n",
              "      <td>5/24/2018</td>\n",
              "      <td>BTCUSD</td>\n",
              "      <td>7505.00</td>\n",
              "      <td>7734.99</td>\n",
              "      <td>7269.00</td>\n",
              "      <td>7584.15</td>\n",
              "      <td>11033.72</td>\n",
              "      <td>8.293137e+07</td>\n",
              "    </tr>\n",
              "    <tr>\n",
              "      <th>3</th>\n",
              "      <td>5/23/2018</td>\n",
              "      <td>BTCUSD</td>\n",
              "      <td>7987.70</td>\n",
              "      <td>8030.00</td>\n",
              "      <td>7433.19</td>\n",
              "      <td>7505.00</td>\n",
              "      <td>14905.99</td>\n",
              "      <td>1.148104e+08</td>\n",
              "    </tr>\n",
              "    <tr>\n",
              "      <th>4</th>\n",
              "      <td>5/22/2018</td>\n",
              "      <td>BTCUSD</td>\n",
              "      <td>8393.44</td>\n",
              "      <td>8400.00</td>\n",
              "      <td>7950.00</td>\n",
              "      <td>7987.70</td>\n",
              "      <td>6589.43</td>\n",
              "      <td>5.389753e+07</td>\n",
              "    </tr>\n",
              "  </tbody>\n",
              "</table>\n",
              "</div>"
            ],
            "text/plain": [
              "        Date  Symbol     Open  ...    Close  Volume From     Volume To\n",
              "0  5/26/2018  BTCUSD  7459.11  ...  7520.00      2722.80  2.042265e+07\n",
              "1  5/25/2018  BTCUSD  7584.15  ...  7459.11      8491.93  6.342069e+07\n",
              "2  5/24/2018  BTCUSD  7505.00  ...  7584.15     11033.72  8.293137e+07\n",
              "3  5/23/2018  BTCUSD  7987.70  ...  7505.00     14905.99  1.148104e+08\n",
              "4  5/22/2018  BTCUSD  8393.44  ...  7987.70      6589.43  5.389753e+07\n",
              "\n",
              "[5 rows x 8 columns]"
            ]
          },
          "metadata": {
            "tags": []
          },
          "execution_count": 2
        }
      ]
    },
    {
      "cell_type": "markdown",
      "metadata": {
        "id": "YEdZvxmvtV_A",
        "colab_type": "text"
      },
      "source": [
        "As shown in the above data frame, the column Close represents the closing price of bitcoins. We need only the column Close to make predictions, so we take that particular column alone as follows:"
      ]
    },
    {
      "cell_type": "code",
      "metadata": {
        "scrolled": true,
        "id": "GlrhBp95tV_D",
        "colab_type": "code",
        "outputId": "03a80af8-8621-45bf-b7a7-3bd33d3f2a2f",
        "colab": {
          "base_uri": "https://localhost:8080/",
          "height": 136
        }
      },
      "source": [
        "dataClose = dataframe['Close'].values\n",
        "\n",
        "# Next, we standardize the data and bring it to the same scale\n",
        "scaler = StandardScaler() # Sklearn contains the preprocessing module that allows us to scale our data and then fit it in our model.\n",
        "dataClose = scaler.fit_transform(dataClose.reshape(-1, 1)) # fit to data, thrn transform it for LSTM functions\n",
        "dataClose"
      ],
      "execution_count": 3,
      "outputs": [
        {
          "output_type": "execute_result",
          "data": {
            "text/plain": [
              "array([[ 1.32443891],\n",
              "       [ 1.30836052],\n",
              "       [ 1.34137813],\n",
              "       ...,\n",
              "       [-0.56145134],\n",
              "       [-0.56145134],\n",
              "       [-0.56356379]])"
            ]
          },
          "metadata": {
            "tags": []
          },
          "execution_count": 3
        }
      ]
    },
    {
      "cell_type": "markdown",
      "metadata": {
        "id": "Df0cdXc5tV_R",
        "colab_type": "text"
      },
      "source": [
        "Plot and observe the trend of how the bitcoins price changes as follows, Since we scaled the price, it is not a bigger number:"
      ]
    },
    {
      "cell_type": "code",
      "metadata": {
        "scrolled": false,
        "id": "KGrKPFHNtV_T",
        "colab_type": "code",
        "outputId": "8139c239-e311-4caf-fec7-f236c0f2875b",
        "colab": {
          "base_uri": "https://localhost:8080/",
          "height": 283
        }
      },
      "source": [
        "plt.plot(dataClose)\n",
        "plt.xlabel('Days')\n",
        "plt.ylabel('Price')\n",
        "plt.grid()"
      ],
      "execution_count": 4,
      "outputs": [
        {
          "output_type": "display_data",
          "data": {
            "image/png": "[encoded data removed]",
            "text/plain": [
              "<Figure size 432x288 with 1 Axes>"
            ]
          },
          "metadata": {
            "tags": []
          }
        }
      ]
    },
    {
      "cell_type": "markdown",
      "metadata": {
        "id": "oXMgg9detV_b",
        "colab_type": "text"
      },
      "source": [
        "We define a function called get_data which generates the input and output. It takes the data and window_size as an input and generates the input and target column.\n",
        "\n",
        "What is window size? We move the x values window_size times ahead and get the y values. For instance, as shown in the below table with window_size = 1, Y values are just 1-time step ahead of x values.\n",
        "\n",
        "X = 0.13, 0.56, 0.11, 0.40\n",
        "\n",
        "Y = 0.56, 0.11, 0.40, 0.63\n",
        "\n",
        "The get_data() function is defined as follows: "
      ]
    },
    {
      "cell_type": "code",
      "metadata": {
        "id": "nED9dpH0tV_d",
        "colab_type": "code",
        "colab": {}
      },
      "source": [
        "def get_data(data, window_size):\n",
        "    X = []\n",
        "    y = []\n",
        "    i = 0\n",
        "    while (i + window_size) <= len(data) - 1:\n",
        "        X.append(data[i:i+window_size])\n",
        "        y.append(data[i+window_size])\n",
        "        \n",
        "        i += 1\n",
        "    assert len(X) ==  len(y) # input and output size should be the same\n",
        "    return X, y\n"
      ],
      "execution_count": 0,
      "outputs": []
    },
    {
      "cell_type": "markdown",
      "metadata": {
        "id": "YQerqiO8tV_i",
        "colab_type": "text"
      },
      "source": [
        "We choose window size as 7 and generate the input and output:"
      ]
    },
    {
      "cell_type": "code",
      "metadata": {
        "id": "acNlLWkmtV_k",
        "colab_type": "code",
        "outputId": "7042c51e-5fb0-4e0c-9a99-ebd30b7c76b8",
        "colab": {
          "base_uri": "https://localhost:8080/",
          "height": 85
        }
      },
      "source": [
        "X, y = get_data(dataClose, window_size = 7)\n",
        "\n",
        "#train set, first 1000 values\n",
        "X_train  = np.array(X[:1000]) \n",
        "y_train = np.array(y[:1000])\n",
        "\n",
        "#test set, last 273 values\n",
        "X_test = np.array(X[1000:])\n",
        "y_test = np.array(y[1000:])\n",
        "\n",
        "# The shape of train and test sets are shown:\n",
        "print(\"X_train size: {}\".format(X_train.shape))\n",
        "print(\"y_train size: {}\".format(y_train.shape))\n",
        "print(\"X_test size: {}\".format(X_test.shape))\n",
        "print(\"y_test size: {}\".format(y_test.shape))"
      ],
      "execution_count": 6,
      "outputs": [
        {
          "output_type": "stream",
          "text": [
            "X_train size: (1000, 7, 1)\n",
            "y_train size: (1000, 1)\n",
            "X_test size: (266, 7, 1)\n",
            "y_test size: (266, 1)\n"
          ],
          "name": "stdout"
        }
      ]
    },
    {
      "cell_type": "markdown",
      "metadata": {
        "id": "CrnjJkIttV_8",
        "colab_type": "text"
      },
      "source": [
        "\n",
        "What does the preceding shape mean? It implies that (sample_size, time_steps, features). LSTM requires input exactly in this format, for example:\n",
        "\n",
        "* 1000 implies the number of data points (sample_size)\n",
        "\n",
        "* 7 specifies the window size (time_steps) \n",
        "\n",
        "* 1 specifies the dimension of our dataset (features) "
      ]
    },
    {
      "cell_type": "code",
      "metadata": {
        "id": "BeWN0eGjtV__",
        "colab_type": "code",
        "colab": {}
      },
      "source": [
        "# Define the neural network parameters:\n",
        "batch_size = 7 # windows of data we are passing at once\n",
        "window_size = 7 # days considered to predict \n",
        "hidden_layer = 256 # units in LSTM cell\n",
        "learning_rate = 0.001 # optimization method that aims to reduce the loss function\n",
        "\n",
        "# Define the placeholders for our input and output:\n",
        "# Placeholders allows us to send different data within our network with the tf.placeholder() command.\n",
        "inputPlaceholder = tf.placeholder(tf.float32, [batch_size, window_size, 1])\n",
        "outputPlaceholder = tf.placeholder(tf.float32, [batch_size, 1])\n",
        "\n",
        "# All the weights we use in our LSTM cell:\n",
        "# LSTM weights are determined by Operation Gates which include: Forget, Input and Output gates\n",
        "\n",
        "# tf.Variable () - creates a variable in the graph as tensor\n",
        "# tf.truncated_normal() - Outputs random values from a truncated normal distribution\n",
        "\n",
        "# Weights of the input gate:\n",
        "weights_input_gate = tf.Variable(tf.truncated_normal([1, hidden_layer], stddev=0.05))\n",
        "weights_input_hidden = tf.Variable(tf.truncated_normal([hidden_layer, hidden_layer], stddev=0.05))\n",
        "bias_input = tf.Variable(tf.zeros([hidden_layer]))\n",
        "\n",
        "# Weights of the forget gate:\n",
        "weights_forget_gate = tf.Variable(tf.truncated_normal([1, hidden_layer], stddev=0.05))\n",
        "weights_forget_hidden = tf.Variable(tf.truncated_normal([hidden_layer, hidden_layer], stddev=0.05))\n",
        "bias_forget = tf.Variable(tf.zeros([hidden_layer]))\n",
        "\n",
        "# Weights of the output gate:\n",
        "weights_output_gate = tf.Variable(tf.truncated_normal([1, hidden_layer], stddev=0.05))\n",
        "weights_output_hidden = tf.Variable(tf.truncated_normal([hidden_layer, hidden_layer], stddev=0.05))\n",
        "bias_output = tf.Variable(tf.zeros([hidden_layer]))\n",
        "\n",
        "# Weights of the candidate state:\n",
        "weights_memory_cell = tf.Variable(tf.truncated_normal([1, hidden_layer], stddev=0.05))\n",
        "weights_memory_cell_hidden = tf.Variable(tf.truncated_normal([hidden_layer, hidden_layer], stddev=0.05))\n",
        "bias_memory_cell = tf.Variable(tf.zeros([hidden_layer]))\n",
        "\n",
        "# Output layer weight:\n",
        "weights_output = tf.Variable(tf.truncated_normal([hidden_layer, 1], stddev=0.05))\n",
        "bias_output_layer = tf.Variable(tf.zeros([1]))"
      ],
      "execution_count": 0,
      "outputs": []
    },
    {
      "cell_type": "markdown",
      "metadata": {
        "id": "MZJ--FN_tWA7",
        "colab_type": "text"
      },
      "source": [
        "## Define the LSTM cell\n",
        "\n",
        "\n",
        "\n",
        "We define the function called LSTM_cell, which returns the cell state and hidden state as an output. Recall the steps we saw in the forward propagation of LSTM:\n",
        "\n",
        "(input gate) $$ i_t = \\sigma ( U_i x_t + W_f h_{t-1} + b_i)  $$\n",
        "\n",
        "(forget gate)$$ f_t = \\sigma ( U_f x_t + W_f h_{t-1} + b_f)  $$ \n",
        "\n",
        "(output gate)$$ o_t = \\sigma (U_o x_t + W_o h_{t-1} + b_o)  $$\n",
        "\n",
        "(memory cell)$$ g_t  = tanh (U_g x_t + W_g h_{t-1} + b_g)  $$\n",
        "\n",
        "(state updated)$$  c_t = f_t  c_{t-1} + i_t {g_t}  $$\n",
        "\n",
        "(output)$$ h_t = o_t tanh(c_t)  $$\n",
        "\n",
        "The LSTM cell is implemented as shown in the following code. It takes the input, previous hidden state, and previous cell state as inputs, and returns the current cell state and current hidden state."
      ]
    },
    {
      "cell_type": "code",
      "metadata": {
        "id": "YlIStHU_tWA-",
        "colab_type": "code",
        "colab": {}
      },
      "source": [
        "#compute the gate states\n",
        "def LSTM_cell(inputPlaceholder, prev_hidden_state, prev_cell_state):\n",
        "    input_gate = tf.sigmoid(tf.matmul(inputPlaceholder, weights_input_gate) + tf.matmul(prev_hidden_state, weights_input_hidden) + bias_input)\n",
        "    forget_gate = tf.sigmoid(tf.matmul(inputPlaceholder, weights_forget_gate) + tf.matmul(prev_hidden_state, weights_forget_hidden) + bias_forget)\n",
        "    output_gate = tf.sigmoid(tf.matmul(inputPlaceholder, weights_output_gate) + tf.matmul(prev_hidden_state, weights_output_hidden) + bias_output)\n",
        "    memory_cell = tf.tanh(tf.matmul(inputPlaceholder, weights_memory_cell) + tf.matmul(prev_hidden_state, weights_memory_cell_hidden) + bias_memory_cell)\n",
        "    \n",
        "    state = (prev_cell_state * forget_gate) + (input_gate * memory_cell)\n",
        "    output = output_gate * tf.tanh(state)\n",
        "    \n",
        "    return state, output"
      ],
      "execution_count": 0,
      "outputs": []
    },
    {
      "cell_type": "markdown",
      "metadata": {
        "id": "hzVSzFJitWBJ",
        "colab_type": "text"
      },
      "source": [
        "## Defining forward propagation\n",
        "\n",
        "\n",
        "Now, we will perform forward propagation and predict the output, $\\hat{y}_t$. \n",
        "\n",
        "$$ \\hat{y}_t = Vh_t + b_v$$"
      ]
    },
    {
      "cell_type": "code",
      "metadata": {
        "id": "A3aHBa3etWBL",
        "colab_type": "code",
        "colab": {}
      },
      "source": [
        "#initialize the list called outputs for storing the predicted output\n",
        "outputs = []\n",
        "\n",
        "#for each batch we compute the output and store it in the outputs list\n",
        "for i in range(batch_size): \n",
        "  \n",
        "    #initialize hidden state and cell state for each batch\n",
        "    hidden_state = np.zeros([1, hidden_layer], dtype=np.float32) \n",
        "    cell_state = np.zeros([1, hidden_layer], dtype=np.float32)\n",
        "    \n",
        "    \n",
        "    #compute the hidden state and cell state of the LSTM cell for each time step\n",
        "    for t in range(window_size):\n",
        "        cell_state, hidden_state = LSTM_cell(tf.reshape(inputPlaceholder[i][t], (-1, 1)), hidden_state, cell_state)\n",
        "        \n",
        "    #compute output and append it to outputs list\n",
        "    outputs.append(tf.matmul(hidden_state, weights_output) + bias_output_layer)"
      ],
      "execution_count": 0,
      "outputs": []
    },
    {
      "cell_type": "markdown",
      "metadata": {
        "id": "PAmbRTCFtWBQ",
        "colab_type": "text"
      },
      "source": [
        "## Defining backpropagation\n",
        "\n",
        "After performing forward propagation and predicting the output, we compute the loss. We use mean squared error as our loss function and the total loss is the sum of losses across all the time steps as follows:"
      ]
    },
    {
      "cell_type": "code",
      "metadata": {
        "id": "6s5PqDbttWBR",
        "colab_type": "code",
        "colab": {}
      },
      "source": [
        "losses = []\n",
        "\n",
        "# we will use mean squared error for the loss to minimize the errors\n",
        "for i in range(len(outputs)):\n",
        "    losses.append(tf.losses.mean_squared_error(tf.reshape(outputPlaceholder[i], (-1, 1)), outputs[i]))\n",
        "    \n",
        "loss = tf.reduce_mean(losses)\n",
        "\n",
        "# To avoid the exploding gradient problem, we perform gradient clipping:\n",
        "gradients = tf.gradients(loss, tf.trainable_variables()) \n",
        "clipped, _ = tf.clip_by_global_norm(gradients, 4.0) # This is to prevent exploding the gradient, we use clipper to clip gradients below above this margin.\n",
        "\n",
        "# We use Adam optimizer and minimize our loss function:\n",
        "optimizer = tf.train.AdamOptimizer(learning_rate).apply_gradients(zip(gradients, tf.trainable_variables()))"
      ],
      "execution_count": 0,
      "outputs": []
    },
    {
      "cell_type": "markdown",
      "metadata": {
        "id": "Vm-TpM4dtWBu",
        "colab_type": "text"
      },
      "source": [
        "## Training the LSTM model\n",
        "\n",
        "\n",
        "Start the TensorFlow session and initialize all the variables:"
      ]
    },
    {
      "cell_type": "code",
      "metadata": {
        "id": "Z7JGCleGtWBv",
        "colab_type": "code",
        "outputId": "e9e41f88-313c-4cbf-e8d5-0417b60c95e6",
        "colab": {
          "base_uri": "https://localhost:8080/",
          "height": 357
        }
      },
      "source": [
        "session = tf.Session()\n",
        "session.run(tf.global_variables_initializer())\n",
        "\n",
        "epochs = 200 # This is the number of iterations (forward and back propagation) our model needs to make\n",
        "\n",
        "for i in range(1, epochs+1):\n",
        "    train_predictions = []\n",
        "    index = 0\n",
        "    epoch_loss = []\n",
        "    \n",
        "    #Sample some batche of data and train the network\n",
        "    while(index + batch_size) <= len(X_train):\n",
        "        \n",
        "        #sample batch of data\n",
        "        X_batch = X_train[index:index+batch_size]\n",
        "        y_batch = y_train[index:index+batch_size]\n",
        "        \n",
        "        #predict the prices and compute loss\n",
        "        predicted, loss_val, _ = session.run([outputs, loss, optimizer], feed_dict={inputPlaceholder:X_batch, outputPlaceholder:y_batch})\n",
        "        \n",
        "        #store the loss\n",
        "        epoch_loss.append(loss_val)\n",
        "        \n",
        "        #store the predictions\n",
        "        train_predictions.append(predicted)\n",
        "        index += batch_size\n",
        "        \n",
        "        \n",
        "    #print the loss on every 10 iterations\n",
        "    if (i % 10)== 0:\n",
        "        print('Epoch {}/{}, Loss: {} '.format(i, epochs, np.mean(epoch_loss))) "
      ],
      "execution_count": 49,
      "outputs": [
        {
          "output_type": "stream",
          "text": [
            "Epoch 10/200, Loss: 0.050918418914079666 \n",
            "Epoch 20/200, Loss: 0.027979698032140732 \n",
            "Epoch 30/200, Loss: 0.02523086965084076 \n",
            "Epoch 40/200, Loss: 0.009259709157049656 \n",
            "Epoch 50/200, Loss: 0.013719241134822369 \n",
            "Epoch 60/200, Loss: 0.010710219852626324 \n",
            "Epoch 70/200, Loss: 0.008438738994300365 \n",
            "Epoch 80/200, Loss: 0.008337917737662792 \n",
            "Epoch 90/200, Loss: 0.007987036369740963 \n",
            "Epoch 100/200, Loss: 0.007125077303498983 \n",
            "Epoch 110/200, Loss: 0.006781748495995998 \n",
            "Epoch 120/200, Loss: 0.006615798454731703 \n",
            "Epoch 130/200, Loss: 0.006049806252121925 \n",
            "Epoch 140/200, Loss: 0.006548393052071333 \n",
            "Epoch 150/200, Loss: 0.005989937577396631 \n",
            "Epoch 160/200, Loss: 0.005912971217185259 \n",
            "Epoch 170/200, Loss: 0.005920812953263521 \n",
            "Epoch 180/200, Loss: 0.005409687757492065 \n",
            "Epoch 190/200, Loss: 0.005466052331030369 \n",
            "Epoch 200/200, Loss: 0.005890145432204008 \n"
          ],
          "name": "stdout"
        }
      ]
    },
    {
      "cell_type": "markdown",
      "metadata": {
        "id": "AhOZfKUbtWCT",
        "colab_type": "text"
      },
      "source": [
        "## Making predictions using the LSTM model\n",
        "\n",
        "Now, we will start making predictions on the test set."
      ]
    },
    {
      "cell_type": "code",
      "metadata": {
        "id": "PATNe-Z5tWCW",
        "colab_type": "code",
        "outputId": "1aa73498-087f-40bc-99a3-745582fecb89",
        "colab": {
          "base_uri": "https://localhost:8080/",
          "height": 136
        }
      },
      "source": [
        "predicted_output = []\n",
        "i = 0\n",
        "while (i + batch_size) <= len(X_test): \n",
        "  \n",
        "    output = session.run([outputs],feed_dict={inputPlaceholder:X_test[i:i+batch_size]})\n",
        "    i += batch_size\n",
        "    predicted_output.append(output)\n",
        "    \n",
        "    \n",
        "# Print the predicted output\n",
        "predicted_output[0]"
      ],
      "execution_count": 50,
      "outputs": [
        {
          "output_type": "execute_result",
          "data": {
            "text/plain": [
              "[[array([[-0.6050536]], dtype=float32),\n",
              "  array([[-0.60068524]], dtype=float32),\n",
              "  array([[-0.6004393]], dtype=float32),\n",
              "  array([[-0.599837]], dtype=float32),\n",
              "  array([[-0.59912217]], dtype=float32),\n",
              "  array([[-0.6017243]], dtype=float32),\n",
              "  array([[-0.5959389]], dtype=float32)]]"
            ]
          },
          "metadata": {
            "tags": []
          },
          "execution_count": 50
        }
      ]
    },
    {
      "cell_type": "markdown",
      "metadata": {
        "id": "r6Km2s4ZtWCx",
        "colab_type": "text"
      },
      "source": [
        "As you can see above, the predicted values are in a nested list. So we will just flatten them."
      ]
    },
    {
      "cell_type": "code",
      "metadata": {
        "id": "ADdn35lUtWC3",
        "colab_type": "code",
        "outputId": "b70a6ca5-6ca4-4119-a7d1-961a09c2c892",
        "colab": {
          "base_uri": "https://localhost:8080/",
          "height": 1000
        }
      },
      "source": [
        "predicted_values_test = []\n",
        "for i in range(len(predicted_output)):\n",
        "    for j in range(len(predicted_output[i][0])):\n",
        "        predicted_values_test.append(predicted_output[i][0][j])\n",
        "        \n",
        "# Now if we print the predicted values, it is no longer in a nested list\n",
        "predicted_values_test"
      ],
      "execution_count": 51,
      "outputs": [
        {
          "output_type": "execute_result",
          "data": {
            "text/plain": [
              "[array([[-0.6050536]], dtype=float32),\n",
              " array([[-0.60068524]], dtype=float32),\n",
              " array([[-0.6004393]], dtype=float32),\n",
              " array([[-0.599837]], dtype=float32),\n",
              " array([[-0.59912217]], dtype=float32),\n",
              " array([[-0.6017243]], dtype=float32),\n",
              " array([[-0.5959389]], dtype=float32),\n",
              " array([[-0.5932971]], dtype=float32),\n",
              " array([[-0.5937625]], dtype=float32),\n",
              " array([[-0.5927799]], dtype=float32),\n",
              " array([[-0.5921876]], dtype=float32),\n",
              " array([[-0.592181]], dtype=float32),\n",
              " array([[-0.59112257]], dtype=float32),\n",
              " array([[-0.59085864]], dtype=float32),\n",
              " array([[-0.59257656]], dtype=float32),\n",
              " array([[-0.59168917]], dtype=float32),\n",
              " array([[-0.59357506]], dtype=float32),\n",
              " array([[-0.58869594]], dtype=float32),\n",
              " array([[-0.588474]], dtype=float32),\n",
              " array([[-0.5886395]], dtype=float32),\n",
              " array([[-0.58726096]], dtype=float32),\n",
              " array([[-0.5889222]], dtype=float32),\n",
              " array([[-0.58801067]], dtype=float32),\n",
              " array([[-0.5884274]], dtype=float32),\n",
              " array([[-0.5878019]], dtype=float32),\n",
              " array([[-0.5867468]], dtype=float32),\n",
              " array([[-0.5866932]], dtype=float32),\n",
              " array([[-0.5850084]], dtype=float32),\n",
              " array([[-0.5854586]], dtype=float32),\n",
              " array([[-0.5858595]], dtype=float32),\n",
              " array([[-0.5866572]], dtype=float32),\n",
              " array([[-0.58681756]], dtype=float32),\n",
              " array([[-0.5898584]], dtype=float32),\n",
              " array([[-0.5897885]], dtype=float32),\n",
              " array([[-0.5895753]], dtype=float32),\n",
              " array([[-0.58941287]], dtype=float32),\n",
              " array([[-0.58990735]], dtype=float32),\n",
              " array([[-0.5897966]], dtype=float32),\n",
              " array([[-0.58881664]], dtype=float32),\n",
              " array([[-0.5892977]], dtype=float32),\n",
              " array([[-0.5874926]], dtype=float32),\n",
              " array([[-0.58686817]], dtype=float32),\n",
              " array([[-0.5858856]], dtype=float32),\n",
              " array([[-0.5806916]], dtype=float32),\n",
              " array([[-0.5856076]], dtype=float32),\n",
              " array([[-0.5877757]], dtype=float32),\n",
              " array([[-0.59157264]], dtype=float32),\n",
              " array([[-0.5916831]], dtype=float32),\n",
              " array([[-0.59149104]], dtype=float32),\n",
              " array([[-0.5916243]], dtype=float32),\n",
              " array([[-0.59093636]], dtype=float32),\n",
              " array([[-0.5941429]], dtype=float32),\n",
              " array([[-0.5947361]], dtype=float32),\n",
              " array([[-0.5949537]], dtype=float32),\n",
              " array([[-0.59411556]], dtype=float32),\n",
              " array([[-0.5921884]], dtype=float32),\n",
              " array([[-0.5944944]], dtype=float32),\n",
              " array([[-0.5964675]], dtype=float32),\n",
              " array([[-0.59565645]], dtype=float32),\n",
              " array([[-0.59790903]], dtype=float32),\n",
              " array([[-0.59790856]], dtype=float32),\n",
              " array([[-0.5982272]], dtype=float32),\n",
              " array([[-0.59760857]], dtype=float32),\n",
              " array([[-0.59626955]], dtype=float32),\n",
              " array([[-0.5974836]], dtype=float32),\n",
              " array([[-0.59678197]], dtype=float32),\n",
              " array([[-0.597054]], dtype=float32),\n",
              " array([[-0.59620553]], dtype=float32),\n",
              " array([[-0.5962187]], dtype=float32),\n",
              " array([[-0.5955817]], dtype=float32),\n",
              " array([[-0.59918165]], dtype=float32),\n",
              " array([[-0.6002875]], dtype=float32),\n",
              " array([[-0.5998746]], dtype=float32),\n",
              " array([[-0.6009126]], dtype=float32),\n",
              " array([[-0.6006907]], dtype=float32),\n",
              " array([[-0.60131276]], dtype=float32),\n",
              " array([[-0.6008601]], dtype=float32),\n",
              " array([[-0.6009207]], dtype=float32),\n",
              " array([[-0.6023375]], dtype=float32),\n",
              " array([[-0.60192245]], dtype=float32),\n",
              " array([[-0.6017919]], dtype=float32),\n",
              " array([[-0.602093]], dtype=float32),\n",
              " array([[-0.6016855]], dtype=float32),\n",
              " array([[-0.6019136]], dtype=float32),\n",
              " array([[-0.60225403]], dtype=float32),\n",
              " array([[-0.60056597]], dtype=float32),\n",
              " array([[-0.59985745]], dtype=float32),\n",
              " array([[-0.59893817]], dtype=float32),\n",
              " array([[-0.5989813]], dtype=float32),\n",
              " array([[-0.5989458]], dtype=float32),\n",
              " array([[-0.59876615]], dtype=float32),\n",
              " array([[-0.5989418]], dtype=float32),\n",
              " array([[-0.5979655]], dtype=float32),\n",
              " array([[-0.59857947]], dtype=float32),\n",
              " array([[-0.5982756]], dtype=float32),\n",
              " array([[-0.5994223]], dtype=float32),\n",
              " array([[-0.5998896]], dtype=float32),\n",
              " array([[-0.6000977]], dtype=float32),\n",
              " array([[-0.6000397]], dtype=float32),\n",
              " array([[-0.5988317]], dtype=float32),\n",
              " array([[-0.5991762]], dtype=float32),\n",
              " array([[-0.59886664]], dtype=float32),\n",
              " array([[-0.59902006]], dtype=float32),\n",
              " array([[-0.59896415]], dtype=float32),\n",
              " array([[-0.59745663]], dtype=float32),\n",
              " array([[-0.5976368]], dtype=float32),\n",
              " array([[-0.5980982]], dtype=float32),\n",
              " array([[-0.59771025]], dtype=float32),\n",
              " array([[-0.59722644]], dtype=float32),\n",
              " array([[-0.5989063]], dtype=float32),\n",
              " array([[-0.60077816]], dtype=float32),\n",
              " array([[-0.5992349]], dtype=float32),\n",
              " array([[-0.5982547]], dtype=float32),\n",
              " array([[-0.59811956]], dtype=float32),\n",
              " array([[-0.59936744]], dtype=float32),\n",
              " array([[-0.6000611]], dtype=float32),\n",
              " array([[-0.5990315]], dtype=float32),\n",
              " array([[-0.6018728]], dtype=float32),\n",
              " array([[-0.60193723]], dtype=float32),\n",
              " array([[-0.6013273]], dtype=float32),\n",
              " array([[-0.60326385]], dtype=float32),\n",
              " array([[-0.60119647]], dtype=float32),\n",
              " array([[-0.6000672]], dtype=float32),\n",
              " array([[-0.59936994]], dtype=float32),\n",
              " array([[-0.59960806]], dtype=float32),\n",
              " array([[-0.5997115]], dtype=float32),\n",
              " array([[-0.6019904]], dtype=float32),\n",
              " array([[-0.60223955]], dtype=float32),\n",
              " array([[-0.6020068]], dtype=float32),\n",
              " array([[-0.6023857]], dtype=float32),\n",
              " array([[-0.600679]], dtype=float32),\n",
              " array([[-0.6023773]], dtype=float32),\n",
              " array([[-0.60315436]], dtype=float32),\n",
              " array([[-0.5983278]], dtype=float32),\n",
              " array([[-0.59861237]], dtype=float32),\n",
              " array([[-0.5987672]], dtype=float32),\n",
              " array([[-0.5992743]], dtype=float32),\n",
              " array([[-0.59756905]], dtype=float32),\n",
              " array([[-0.5962163]], dtype=float32),\n",
              " array([[-0.5944479]], dtype=float32),\n",
              " array([[-0.5939266]], dtype=float32),\n",
              " array([[-0.5933056]], dtype=float32),\n",
              " array([[-0.5947535]], dtype=float32),\n",
              " array([[-0.5947923]], dtype=float32),\n",
              " array([[-0.5947432]], dtype=float32),\n",
              " array([[-0.5969364]], dtype=float32),\n",
              " array([[-0.5971454]], dtype=float32),\n",
              " array([[-0.5964219]], dtype=float32),\n",
              " array([[-0.5976313]], dtype=float32),\n",
              " array([[-0.5950136]], dtype=float32),\n",
              " array([[-0.59635323]], dtype=float32),\n",
              " array([[-0.5961861]], dtype=float32),\n",
              " array([[-0.5965335]], dtype=float32),\n",
              " array([[-0.59655106]], dtype=float32),\n",
              " array([[-0.5915923]], dtype=float32),\n",
              " array([[-0.591033]], dtype=float32),\n",
              " array([[-0.59335786]], dtype=float32),\n",
              " array([[-0.59280217]], dtype=float32),\n",
              " array([[-0.5929174]], dtype=float32),\n",
              " array([[-0.5939344]], dtype=float32),\n",
              " array([[-0.58648276]], dtype=float32),\n",
              " array([[-0.5856176]], dtype=float32),\n",
              " array([[-0.58734536]], dtype=float32),\n",
              " array([[-0.587786]], dtype=float32),\n",
              " array([[-0.5875887]], dtype=float32),\n",
              " array([[-0.5843714]], dtype=float32),\n",
              " array([[-0.5847247]], dtype=float32),\n",
              " array([[-0.58613837]], dtype=float32),\n",
              " array([[-0.5866658]], dtype=float32),\n",
              " array([[-0.5906232]], dtype=float32),\n",
              " array([[-0.58989525]], dtype=float32),\n",
              " array([[-0.5903461]], dtype=float32),\n",
              " array([[-0.58979917]], dtype=float32),\n",
              " array([[-0.5903684]], dtype=float32),\n",
              " array([[-0.5885701]], dtype=float32),\n",
              " array([[-0.59007704]], dtype=float32),\n",
              " array([[-0.59464204]], dtype=float32),\n",
              " array([[-0.5948593]], dtype=float32),\n",
              " array([[-0.5948477]], dtype=float32),\n",
              " array([[-0.59941685]], dtype=float32),\n",
              " array([[-0.5990331]], dtype=float32),\n",
              " array([[-0.5985203]], dtype=float32),\n",
              " array([[-0.59868747]], dtype=float32),\n",
              " array([[-0.59901464]], dtype=float32),\n",
              " array([[-0.5971766]], dtype=float32),\n",
              " array([[-0.59679466]], dtype=float32),\n",
              " array([[-0.5979169]], dtype=float32),\n",
              " array([[-0.59943444]], dtype=float32),\n",
              " array([[-0.5974552]], dtype=float32),\n",
              " array([[-0.59897476]], dtype=float32),\n",
              " array([[-0.6000387]], dtype=float32),\n",
              " array([[-0.5935706]], dtype=float32),\n",
              " array([[-0.599553]], dtype=float32),\n",
              " array([[-0.6031274]], dtype=float32),\n",
              " array([[-0.603147]], dtype=float32),\n",
              " array([[-0.60332376]], dtype=float32),\n",
              " array([[-0.6019643]], dtype=float32),\n",
              " array([[-0.60232496]], dtype=float32),\n",
              " array([[-0.60112286]], dtype=float32),\n",
              " array([[-0.6025178]], dtype=float32),\n",
              " array([[-0.60426265]], dtype=float32),\n",
              " array([[-0.6012805]], dtype=float32),\n",
              " array([[-0.600906]], dtype=float32),\n",
              " array([[-0.5985825]], dtype=float32),\n",
              " array([[-0.6014809]], dtype=float32),\n",
              " array([[-0.6039401]], dtype=float32),\n",
              " array([[-0.5995394]], dtype=float32),\n",
              " array([[-0.5994846]], dtype=float32),\n",
              " array([[-0.5990606]], dtype=float32),\n",
              " array([[-0.59229374]], dtype=float32),\n",
              " array([[-0.5908934]], dtype=float32),\n",
              " array([[-0.5950909]], dtype=float32),\n",
              " array([[-0.5987261]], dtype=float32),\n",
              " array([[-0.6000188]], dtype=float32),\n",
              " array([[-0.60151094]], dtype=float32),\n",
              " array([[-0.60176325]], dtype=float32),\n",
              " array([[-0.60654736]], dtype=float32),\n",
              " array([[-0.60192937]], dtype=float32),\n",
              " array([[-0.61225814]], dtype=float32),\n",
              " array([[-0.6125847]], dtype=float32),\n",
              " array([[-0.6069404]], dtype=float32),\n",
              " array([[-0.6053001]], dtype=float32),\n",
              " array([[-0.62782705]], dtype=float32),\n",
              " array([[-0.5918943]], dtype=float32),\n",
              " array([[-0.5830509]], dtype=float32),\n",
              " array([[-0.58861107]], dtype=float32),\n",
              " array([[-0.584035]], dtype=float32),\n",
              " array([[-0.5899333]], dtype=float32),\n",
              " array([[-0.58467]], dtype=float32),\n",
              " array([[-0.57287604]], dtype=float32),\n",
              " array([[-0.57372266]], dtype=float32),\n",
              " array([[-0.57498693]], dtype=float32),\n",
              " array([[-0.5742483]], dtype=float32),\n",
              " array([[-0.57522106]], dtype=float32),\n",
              " array([[-0.5737366]], dtype=float32),\n",
              " array([[-0.57472485]], dtype=float32),\n",
              " array([[-0.57472485]], dtype=float32),\n",
              " array([[-0.57472485]], dtype=float32),\n",
              " array([[-0.57472485]], dtype=float32),\n",
              " array([[-0.57472485]], dtype=float32),\n",
              " array([[-0.57472485]], dtype=float32),\n",
              " array([[-0.57472485]], dtype=float32),\n",
              " array([[-0.57472485]], dtype=float32),\n",
              " array([[-0.57472485]], dtype=float32),\n",
              " array([[-0.57472485]], dtype=float32),\n",
              " array([[-0.57472485]], dtype=float32),\n",
              " array([[-0.57472485]], dtype=float32),\n",
              " array([[-0.57472485]], dtype=float32),\n",
              " array([[-0.57472485]], dtype=float32),\n",
              " array([[-0.57472485]], dtype=float32),\n",
              " array([[-0.5720932]], dtype=float32),\n",
              " array([[-0.5721564]], dtype=float32),\n",
              " array([[-0.5723728]], dtype=float32),\n",
              " array([[-0.5722588]], dtype=float32),\n",
              " array([[-0.57244694]], dtype=float32),\n",
              " array([[-0.5721428]], dtype=float32),\n",
              " array([[-0.5695788]], dtype=float32),\n",
              " array([[-0.5696427]], dtype=float32),\n",
              " array([[-0.56605047]], dtype=float32),\n",
              " array([[-0.56601804]], dtype=float32),\n",
              " array([[-0.56573373]], dtype=float32),\n",
              " array([[-0.56527716]], dtype=float32),\n",
              " array([[-0.5660556]], dtype=float32),\n",
              " array([[-0.56557983]], dtype=float32),\n",
              " array([[-0.5656689]], dtype=float32),\n",
              " array([[-0.56559044]], dtype=float32)]"
            ]
          },
          "metadata": {
            "tags": []
          },
          "execution_count": 51
        }
      ]
    },
    {
      "cell_type": "markdown",
      "metadata": {
        "id": "s0hrxXc6tWDH",
        "colab_type": "text"
      },
      "source": [
        "As we took the first 1000 points as a training set, we make predictions for time step greater\n",
        "than 1000."
      ]
    },
    {
      "cell_type": "code",
      "metadata": {
        "id": "56uSIUkGtWDI",
        "colab_type": "code",
        "outputId": "abd08cb5-41ca-4dc9-9996-08ff7630f9d0",
        "colab": {
          "base_uri": "https://localhost:8080/",
          "height": 446
        }
      },
      "source": [
        "predictions = []\n",
        "training = []\n",
        "for i in range(1280):\n",
        "    if i >= 1000:\n",
        "        predictions.append(predicted_values_test[i-1019])\n",
        "    else:\n",
        "        predictions.append(None)        \n",
        "        \n",
        "# Plot and see how well the predicted value matches the actual value:\n",
        "plt.figure(figsize=(16, 7))\n",
        "plt.plot(dataClose, label='Actual')\n",
        "plt.plot(predictions, label='Predicted')\n",
        "plt.legend()\n",
        "plt.xlabel('Days')\n",
        "plt.ylabel('Price')\n",
        "plt.grid()\n",
        "plt.show()\n",
        "\n",
        "# As you can see in the above plot, the actual value is shown in blue color and the predicted value is shown in orange color. \n",
        "# As we are making predictions for the time step greater than 1000, you can see after the time step 1000,\n",
        "# blue and orange lines interest each other, which implies that our model has correctly predicted the actual values."
      ],
      "execution_count": 52,
      "outputs": [
        {
          "output_type": "display_data",
          "data": {
            "image/png": "[encoded data removed]",
            "text/plain": [
              "<Figure size 1152x504 with 1 Axes>"
            ]
          },
          "metadata": {
            "tags": []
          }
        }
      ]
    }
  ]
}