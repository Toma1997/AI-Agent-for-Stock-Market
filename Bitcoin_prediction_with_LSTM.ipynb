{
  "nbformat": 4,
  "nbformat_minor": 0,
  "metadata": {
    "colab": {
      "name": "Bitcoin_prediction_with_LSTM.ipynb",
      "version": "0.3.2",
      "provenance": [],
      "collapsed_sections": []
    },
    "language_info": {
      "codemirror_mode": {
        "name": "ipython",
        "version": 3
      },
      "file_extension": ".py",
      "mimetype": "text/x-python",
      "name": "python",
      "nbconvert_exporter": "python",
      "pygments_lexer": "ipython3",
      "version": "3.6.0"
    },
    "kernelspec": {
      "display_name": "Python 3",
      "language": "python",
      "name": "python3"
    }
  },
  "cells": [
    {
      "cell_type": "code",
      "metadata": {
        "id": "x6ONcOJ9tV-C",
        "colab_type": "code",
        "colab": {}
      },
      "source": [
        "import warnings\n",
        "warnings.filterwarnings('ignore')\n",
        "\n",
        "import numpy as np\n",
        "import pandas as pd\n",
        "from sklearn.preprocessing import StandardScaler # for normalizing our data (scalling)\n",
        "\n",
        "import matplotlib.pyplot as plt\n",
        "%matplotlib inline \n",
        "\n",
        "import tensorflow as tf # for LSTM implementation\n",
        "tf.logging.set_verbosity(tf.logging.ERROR) # it will log errors if occured\n",
        "\n",
        "from google.colab import files\n",
        "import io\n",
        "uploaded = files.upload() # upload dataset file from local machine"
      ],
      "execution_count": 0,
      "outputs": []
    },
    {
      "cell_type": "code",
      "metadata": {
        "id": "yWUhBRALtV-w",
        "colab_type": "code",
        "colab": {
          "base_uri": "https://localhost:8080/",
          "height": 204
        },
        "outputId": "e2c4a868-671e-48be-e916-987b513d1031"
      },
      "source": [
        "dataframe = pd.read_csv(io.BytesIO(uploaded['bitcoin_data.csv']))\n",
        "\n",
        "# Display a few rows of the dataset as follows:\n",
        "dataframe.head()"
      ],
      "execution_count": 96,
      "outputs": [
        {
          "output_type": "execute_result",
          "data": {
            "text/html": [
              "<div>\n",
              "<style scoped>\n",
              "    .dataframe tbody tr th:only-of-type {\n",
              "        vertical-align: middle;\n",
              "    }\n",
              "\n",
              "    .dataframe tbody tr th {\n",
              "        vertical-align: top;\n",
              "    }\n",
              "\n",
              "    .dataframe thead th {\n",
              "        text-align: right;\n",
              "    }\n",
              "</style>\n",
              "<table border=\"1\" class=\"dataframe\">\n",
              "  <thead>\n",
              "    <tr style=\"text-align: right;\">\n",
              "      <th></th>\n",
              "      <th>Date</th>\n",
              "      <th>Symbol</th>\n",
              "      <th>Open</th>\n",
              "      <th>High</th>\n",
              "      <th>Low</th>\n",
              "      <th>Close</th>\n",
              "      <th>Volume From</th>\n",
              "      <th>Volume To</th>\n",
              "    </tr>\n",
              "  </thead>\n",
              "  <tbody>\n",
              "    <tr>\n",
              "      <th>0</th>\n",
              "      <td>5/26/2018</td>\n",
              "      <td>BTCUSD</td>\n",
              "      <td>7459.11</td>\n",
              "      <td>7640.46</td>\n",
              "      <td>7380.00</td>\n",
              "      <td>7520.00</td>\n",
              "      <td>2722.80</td>\n",
              "      <td>2.042265e+07</td>\n",
              "    </tr>\n",
              "    <tr>\n",
              "      <th>1</th>\n",
              "      <td>5/25/2018</td>\n",
              "      <td>BTCUSD</td>\n",
              "      <td>7584.15</td>\n",
              "      <td>7661.85</td>\n",
              "      <td>7326.94</td>\n",
              "      <td>7459.11</td>\n",
              "      <td>8491.93</td>\n",
              "      <td>6.342069e+07</td>\n",
              "    </tr>\n",
              "    <tr>\n",
              "      <th>2</th>\n",
              "      <td>5/24/2018</td>\n",
              "      <td>BTCUSD</td>\n",
              "      <td>7505.00</td>\n",
              "      <td>7734.99</td>\n",
              "      <td>7269.00</td>\n",
              "      <td>7584.15</td>\n",
              "      <td>11033.72</td>\n",
              "      <td>8.293137e+07</td>\n",
              "    </tr>\n",
              "    <tr>\n",
              "      <th>3</th>\n",
              "      <td>5/23/2018</td>\n",
              "      <td>BTCUSD</td>\n",
              "      <td>7987.70</td>\n",
              "      <td>8030.00</td>\n",
              "      <td>7433.19</td>\n",
              "      <td>7505.00</td>\n",
              "      <td>14905.99</td>\n",
              "      <td>1.148104e+08</td>\n",
              "    </tr>\n",
              "    <tr>\n",
              "      <th>4</th>\n",
              "      <td>5/22/2018</td>\n",
              "      <td>BTCUSD</td>\n",
              "      <td>8393.44</td>\n",
              "      <td>8400.00</td>\n",
              "      <td>7950.00</td>\n",
              "      <td>7987.70</td>\n",
              "      <td>6589.43</td>\n",
              "      <td>5.389753e+07</td>\n",
              "    </tr>\n",
              "  </tbody>\n",
              "</table>\n",
              "</div>"
            ],
            "text/plain": [
              "        Date  Symbol     Open  ...    Close  Volume From     Volume To\n",
              "0  5/26/2018  BTCUSD  7459.11  ...  7520.00      2722.80  2.042265e+07\n",
              "1  5/25/2018  BTCUSD  7584.15  ...  7459.11      8491.93  6.342069e+07\n",
              "2  5/24/2018  BTCUSD  7505.00  ...  7584.15     11033.72  8.293137e+07\n",
              "3  5/23/2018  BTCUSD  7987.70  ...  7505.00     14905.99  1.148104e+08\n",
              "4  5/22/2018  BTCUSD  8393.44  ...  7987.70      6589.43  5.389753e+07\n",
              "\n",
              "[5 rows x 8 columns]"
            ]
          },
          "metadata": {
            "tags": []
          },
          "execution_count": 96
        }
      ]
    },
    {
      "cell_type": "markdown",
      "metadata": {
        "id": "YEdZvxmvtV_A",
        "colab_type": "text"
      },
      "source": [
        "As shown in the above data frame, the column Close represents the closing price of bitcoins. We need only the column Close to make predictions, so we take that particular column alone as follows:"
      ]
    },
    {
      "cell_type": "code",
      "metadata": {
        "scrolled": true,
        "id": "GlrhBp95tV_D",
        "colab_type": "code",
        "colab": {
          "base_uri": "https://localhost:8080/",
          "height": 136
        },
        "outputId": "f55e1cb9-cac6-4f0a-e38b-4063df281ac4"
      },
      "source": [
        "dataClose = dataframe['Close'].values\n",
        "\n",
        "# Next, we standardize the data and bring it to the same scale\n",
        "scaler = StandardScaler() # Sklearn contains the preprocessing module that allows us to scale our data and then fit it in our model.\n",
        "dataClose = scaler.fit_transform(dataClose.reshape(-1, 1)) # fit to data, thrn transform it for LSTM functions\n",
        "dataClose"
      ],
      "execution_count": 98,
      "outputs": [
        {
          "output_type": "execute_result",
          "data": {
            "text/plain": [
              "array([[ 1.32443891],\n",
              "       [ 1.30836052],\n",
              "       [ 1.34137813],\n",
              "       ...,\n",
              "       [-0.56145134],\n",
              "       [-0.56145134],\n",
              "       [-0.56356379]])"
            ]
          },
          "metadata": {
            "tags": []
          },
          "execution_count": 98
        }
      ]
    },
    {
      "cell_type": "markdown",
      "metadata": {
        "id": "Df0cdXc5tV_R",
        "colab_type": "text"
      },
      "source": [
        "Plot and observe the trend of how the bitcoins price changes as follows, Since we scaled the price, it is not a bigger number:"
      ]
    },
    {
      "cell_type": "code",
      "metadata": {
        "scrolled": false,
        "id": "KGrKPFHNtV_T",
        "colab_type": "code",
        "colab": {
          "base_uri": "https://localhost:8080/",
          "height": 283
        },
        "outputId": "9b668726-b805-4787-a6e8-99d20aa15963"
      },
      "source": [
        "plt.plot(dataClose)\n",
        "plt.xlabel('Days')\n",
        "plt.ylabel('Price')\n",
        "plt.grid()"
      ],
      "execution_count": 99,
      "outputs": [
        {
          "output_type": "display_data",
          "data": {
            "image/png": "[encoded data removed]",
            "text/plain": [
              "<Figure size 432x288 with 1 Axes>"
            ]
          },
          "metadata": {
            "tags": []
          }
        }
      ]
    },
    {
      "cell_type": "markdown",
      "metadata": {
        "id": "oXMgg9detV_b",
        "colab_type": "text"
      },
      "source": [
        "We define a function called get_data which generates the input and output. It takes the data and window_size as an input and generates the input and target column.\n",
        "\n",
        "What is window size? We move the x values window_size times ahead and get the y values. For instance, as shown in the below table with window_size = 1, Y values are just 1-time step ahead of x values.\n",
        "\n",
        "X = 0.13, 0.56, 0.11, 0.40\n",
        "\n",
        "Y = 0.56, 0.11, 0.40, 0.63\n",
        "\n",
        "The get_data() function is defined as follows: "
      ]
    },
    {
      "cell_type": "code",
      "metadata": {
        "id": "nED9dpH0tV_d",
        "colab_type": "code",
        "colab": {}
      },
      "source": [
        "def get_data(data, window_size):\n",
        "    X = []\n",
        "    y = []\n",
        "    i = 0\n",
        "    while (i + window_size) <= len(data) - 1:\n",
        "        X.append(data[i:i+window_size])\n",
        "        y.append(data[i+window_size])\n",
        "        \n",
        "        i += 1\n",
        "    assert len(X) ==  len(y) # input and output size should be the same\n",
        "    return X, y\n"
      ],
      "execution_count": 0,
      "outputs": []
    },
    {
      "cell_type": "markdown",
      "metadata": {
        "id": "YQerqiO8tV_i",
        "colab_type": "text"
      },
      "source": [
        "We choose window size as 7 and generate the input and output:"
      ]
    },
    {
      "cell_type": "code",
      "metadata": {
        "id": "acNlLWkmtV_k",
        "colab_type": "code",
        "colab": {
          "base_uri": "https://localhost:8080/",
          "height": 85
        },
        "outputId": "35ac2e3d-e24b-49e4-f7e0-edd5eb336b00"
      },
      "source": [
        "X, y = get_data(dataClose, window_size = 7)\n",
        "\n",
        "#train set, first 1000 values\n",
        "X_train  = np.array(X[:1000]) \n",
        "y_train = np.array(y[:1000])\n",
        "\n",
        "#test set, last 273 values\n",
        "X_test = np.array(X[1000:])\n",
        "y_test = np.array(y[1000:])\n",
        "\n",
        "# The shape of train and test sets are shown:\n",
        "print(\"X_train size: {}\".format(X_train.shape))\n",
        "print(\"y_train size: {}\".format(y_train.shape))\n",
        "print(\"X_test size: {}\".format(X_test.shape))\n",
        "print(\"y_test size: {}\".format(y_test.shape))"
      ],
      "execution_count": 102,
      "outputs": [
        {
          "output_type": "stream",
          "text": [
            "X_train size: (1000, 7, 1)\n",
            "y_train size: (1000, 1)\n",
            "X_test size: (266, 7, 1)\n",
            "y_test size: (266, 1)\n"
          ],
          "name": "stdout"
        }
      ]
    },
    {
      "cell_type": "markdown",
      "metadata": {
        "id": "CrnjJkIttV_8",
        "colab_type": "text"
      },
      "source": [
        "\n",
        "What does the preceding shape mean? It implies that (sample_size, time_steps, features). LSTM requires input exactly in this format, for example:\n",
        "\n",
        "* 1000 implies the number of data points (sample_size)\n",
        "\n",
        "* 7 specifies the window size (time_steps) \n",
        "\n",
        "* 1 specifies the dimension of our dataset (features) "
      ]
    },
    {
      "cell_type": "code",
      "metadata": {
        "id": "BeWN0eGjtV__",
        "colab_type": "code",
        "colab": {}
      },
      "source": [
        "# Define the neural network parameters:\n",
        "batch_size = 7 # windows of data we are passing at once\n",
        "window_size = 7 # days considered to predict \n",
        "hidden_layer = 256 # units in LSTM cell\n",
        "learning_rate = 0.001 # optimization method that aims to reduce the loss function\n",
        "\n",
        "# Define the placeholders for our input and output:\n",
        "# Placeholders allows us to send different data within our network with the tf.placeholder() command.\n",
        "inputPlaceholder = tf.placeholder(tf.float32, [batch_size, window_size, 1])\n",
        "outputPlaceholder = tf.placeholder(tf.float32, [batch_size, 1])\n",
        "\n",
        "# All the weights we use in our LSTM cell:\n",
        "# LSTM weights are determined by Operation Gates which include: Forget, Input and Output gates\n",
        "\n",
        "# tf.Variable () - creates a variable in the graph as tensor\n",
        "# tf.truncated_normal() - Outputs random values from a truncated normal distribution\n",
        "\n",
        "# Weights of the input gate:\n",
        "weights_input_gate = tf.Variable(tf.truncated_normal([1, hidden_layer], stddev=0.05))\n",
        "weights_input_hidden = tf.Variable(tf.truncated_normal([hidden_layer, hidden_layer], stddev=0.05))\n",
        "bias_input = tf.Variable(tf.zeros([hidden_layer]))\n",
        "\n",
        "# Weights of the forget gate:\n",
        "weights_forget_gate = tf.Variable(tf.truncated_normal([1, hidden_layer], stddev=0.05))\n",
        "weights_forget_hidden = tf.Variable(tf.truncated_normal([hidden_layer, hidden_layer], stddev=0.05))\n",
        "bias_forget = tf.Variable(tf.zeros([hidden_layer]))\n",
        "\n",
        "# Weights of the output gate:\n",
        "weights_output_gate = tf.Variable(tf.truncated_normal([1, hidden_layer], stddev=0.05))\n",
        "weights_output_hidden = tf.Variable(tf.truncated_normal([hidden_layer, hidden_layer], stddev=0.05))\n",
        "bias_output = tf.Variable(tf.zeros([hidden_layer]))\n",
        "\n",
        "# Weights of the candidate state:\n",
        "weights_memory_cell = tf.Variable(tf.truncated_normal([1, hidden_layer], stddev=0.05))\n",
        "weights_memory_cell_hidden = tf.Variable(tf.truncated_normal([hidden_layer, hidden_layer], stddev=0.05))\n",
        "bias_memory_cell = tf.Variable(tf.zeros([hidden_layer]))\n",
        "\n",
        "# Output layer weight:\n",
        "weights_output = tf.Variable(tf.truncated_normal([hidden_layer, 1], stddev=0.05))\n",
        "bias_output_layer = tf.Variable(tf.zeros([1]))"
      ],
      "execution_count": 0,
      "outputs": []
    },
    {
      "cell_type": "code",
      "metadata": {
        "id": "ojzpe6g4tWAP",
        "colab_type": "code",
        "colab": {}
      },
      "source": [
        ""
      ],
      "execution_count": 0,
      "outputs": []
    },
    {
      "cell_type": "markdown",
      "metadata": {
        "id": "MZJ--FN_tWA7",
        "colab_type": "text"
      },
      "source": [
        "## Define the LSTM cell\n",
        "\n",
        "\n",
        "\n",
        "We define the function called LSTM_cell, which returns the cell state and hidden state as an output. Recall the steps we saw in the forward propagation of LSTM:\n",
        "\n",
        "(input gate) $$ i_t = \\sigma ( U_i x_t + W_f h_{t-1} + b_i)  $$\n",
        "\n",
        "(forget gate)$$ f_t = \\sigma ( U_f x_t + W_f h_{t-1} + b_f)  $$ \n",
        "\n",
        "(output gate)$$ o_t = \\sigma (U_o x_t + W_o h_{t-1} + b_o)  $$\n",
        "\n",
        "(memory cell)$$ g_t  = tanh (U_g x_t + W_g h_{t-1} + b_g)  $$\n",
        "\n",
        "(state updated)$$  c_t = f_t  c_{t-1} + i_t {g_t}  $$\n",
        "\n",
        "(output)$$ h_t = o_t tanh(c_t)  $$\n",
        "\n",
        "The LSTM cell is implemented as shown in the following code. It takes the input, previous hidden state, and previous cell state as inputs, and returns the current cell state and current hidden state."
      ]
    },
    {
      "cell_type": "code",
      "metadata": {
        "id": "YlIStHU_tWA-",
        "colab_type": "code",
        "colab": {}
      },
      "source": [
        "#compute the gate states\n",
        "def LSTM_cell(inputPlaceholder, prev_hidden_state, prev_cell_state):\n",
        "    input_gate = tf.sigmoid(tf.matmul(inputPlaceholder, weights_input_gate) + tf.matmul(prev_hidden_state, weights_input_hidden) + bias_input)\n",
        "    forget_gate = tf.sigmoid(tf.matmul(inputPlaceholder, weights_forget_gate) + tf.matmul(prev_hidden_state, weights_forget_hidden) + bias_forget)\n",
        "    output_gate = tf.sigmoid(tf.matmul(inputPlaceholder, weights_output_gate) + tf.matmul(prev_hidden_state, weights_output_hidden) + bias_output)\n",
        "    memory_cell = tf.tanh(tf.matmul(inputPlaceholder, weights_memory_cell) + tf.matmul(prev_hidden_state, weights_memory_cell_hidden) + bias_memory_cell)\n",
        "    \n",
        "    state = (prev_cell_state * forget_gate) + (input_gate * memory_cell)\n",
        "    output = output_gate * tf.tanh(state)\n",
        "    \n",
        "    return state, output"
      ],
      "execution_count": 0,
      "outputs": []
    },
    {
      "cell_type": "markdown",
      "metadata": {
        "id": "hzVSzFJitWBJ",
        "colab_type": "text"
      },
      "source": [
        "## Defining forward propagation\n",
        "\n",
        "\n",
        "Now, we will perform forward propagation and predict the output, $\\hat{y}_t$. \n",
        "\n",
        "$$ \\hat{y}_t = Vh_t + b_v$$"
      ]
    },
    {
      "cell_type": "code",
      "metadata": {
        "id": "A3aHBa3etWBL",
        "colab_type": "code",
        "colab": {}
      },
      "source": [
        "#initialize the list called outputs for storing the predicted output\n",
        "outputs = []\n",
        "\n",
        "#for each batch we compute the output and store it in the outputs list\n",
        "for i in range(batch_size): \n",
        "  \n",
        "    #initialize hidden state and cell state for each batch\n",
        "    hidden_state = np.zeros([1, hidden_layer], dtype=np.float32) \n",
        "    cell_state = np.zeros([1, hidden_layer], dtype=np.float32)\n",
        "    \n",
        "    \n",
        "    #compute the hidden state and cell state of the LSTM cell for each time step\n",
        "    for t in range(window_size):\n",
        "        cell_state, hidden_state = LSTM_cell(tf.reshape(inputPlaceholder[i][t], (-1, 1)), hidden_state, cell_state)\n",
        "        \n",
        "    #compute output and append it to outputs list\n",
        "    outputs.append(tf.matmul(hidden_state, weights_output) + bias_output_layer)"
      ],
      "execution_count": 0,
      "outputs": []
    },
    {
      "cell_type": "markdown",
      "metadata": {
        "id": "PAmbRTCFtWBQ",
        "colab_type": "text"
      },
      "source": [
        "## Defining backpropagation\n",
        "\n",
        "After performing forward propagation and predicting the output, we compute the loss. We use mean squared error as our loss function and the total loss is the sum of losses across all the time steps as follows:"
      ]
    },
    {
      "cell_type": "code",
      "metadata": {
        "id": "6s5PqDbttWBR",
        "colab_type": "code",
        "colab": {}
      },
      "source": [
        "losses = []\n",
        "\n",
        "# we will use mean squared error for the loss to minimize the errors\n",
        "for i in range(len(outputs)):\n",
        "    losses.append(tf.losses.mean_squared_error(tf.reshape(outputPlaceholder[i], (-1, 1)), outputs[i]))\n",
        "    \n",
        "loss = tf.reduce_mean(losses)\n",
        "\n",
        "# To avoid the exploding gradient problem, we perform gradient clipping:\n",
        "gradients = tf.gradients(loss, tf.trainable_variables()) \n",
        "clipped, _ = tf.clip_by_global_norm(gradients, 4.0) # This is to prevent exploding the gradient, we use clipper to clip gradients below above this margin.\n",
        "\n",
        "# We use Adam optimizer and minimize our loss function:\n",
        "optimizer = tf.train.AdamOptimizer(learning_rate).apply_gradients(zip(gradients, tf.trainable_variables()))"
      ],
      "execution_count": 0,
      "outputs": []
    },
    {
      "cell_type": "markdown",
      "metadata": {
        "id": "Vm-TpM4dtWBu",
        "colab_type": "text"
      },
      "source": [
        "## Training the LSTM model\n",
        "\n",
        "\n",
        "Start the TensorFlow session and initialize all the variables:"
      ]
    },
    {
      "cell_type": "code",
      "metadata": {
        "id": "Z7JGCleGtWBv",
        "colab_type": "code",
        "colab": {
          "base_uri": "https://localhost:8080/",
          "height": 357
        },
        "outputId": "18ff49bc-89d7-4f87-ba43-7e79e233d2a8"
      },
      "source": [
        "session = tf.Session()\n",
        "session.run(tf.global_variables_initializer())\n",
        "\n",
        "epochs = 200 # This is the number of iterations (forward and back propagation) our model needs to make\n",
        "\n",
        "for i in range(1, epochs+1):\n",
        "    train_predictions = []\n",
        "    index = 0\n",
        "    epoch_loss = []\n",
        "    \n",
        "    #Sample some batche of data and train the network\n",
        "    while(index + batch_size) <= len(X_train):\n",
        "        \n",
        "        #sample batch of data\n",
        "        X_batch = X_train[index:index+batch_size]\n",
        "        y_batch = y_train[index:index+batch_size]\n",
        "        \n",
        "        #predict the prices and compute loss\n",
        "        predicted, loss_val, _ = session.run([outputs, loss, optimizer], feed_dict={inputPlaceholder:X_batch, outputPlaceholder:y_batch})\n",
        "        \n",
        "        #store the loss\n",
        "        epoch_loss.append(loss_val)\n",
        "        \n",
        "        #store the predictions\n",
        "        train_predictions.append(predicted)\n",
        "        index += batch_size\n",
        "        \n",
        "        \n",
        "    #print the loss on every 10 iterations\n",
        "    if (i % 10)== 0:\n",
        "        print('Epoch {}/{}, Loss: {} '.format(i, epochs, np.mean(epoch_loss)))"
      ],
      "execution_count": 110,
      "outputs": [
        {
          "output_type": "stream",
          "text": [
            "Epoch 10/200, Loss: 0.052119337022304535 \n",
            "Epoch 20/200, Loss: 0.030787387862801552 \n",
            "Epoch 30/200, Loss: 0.022611046209931374 \n",
            "Epoch 40/200, Loss: 0.009572806768119335 \n",
            "Epoch 50/200, Loss: 0.010627751238644123 \n",
            "Epoch 60/200, Loss: 0.010220067575573921 \n",
            "Epoch 70/200, Loss: 0.009433789178729057 \n",
            "Epoch 80/200, Loss: 0.008050141856074333 \n",
            "Epoch 90/200, Loss: 0.007224271073937416 \n",
            "Epoch 100/200, Loss: 0.007291511632502079 \n",
            "Epoch 110/200, Loss: 0.006616408005356789 \n",
            "Epoch 120/200, Loss: 0.006546523422002792 \n",
            "Epoch 130/200, Loss: 0.006358276586979628 \n",
            "Epoch 140/200, Loss: 0.006123906932771206 \n",
            "Epoch 150/200, Loss: 0.005847164895385504 \n",
            "Epoch 160/200, Loss: 0.006115457508713007 \n",
            "Epoch 170/200, Loss: 0.006170291919261217 \n",
            "Epoch 180/200, Loss: 0.005758743267506361 \n",
            "Epoch 190/200, Loss: 0.006723759695887566 \n",
            "Epoch 200/200, Loss: 0.005752605386078358 \n"
          ],
          "name": "stdout"
        }
      ]
    },
    {
      "cell_type": "markdown",
      "metadata": {
        "id": "AhOZfKUbtWCT",
        "colab_type": "text"
      },
      "source": [
        "## Making predictions using the LSTM model\n",
        "\n",
        "Now, we will start making predictions on the test set."
      ]
    },
    {
      "cell_type": "code",
      "metadata": {
        "id": "PATNe-Z5tWCW",
        "colab_type": "code",
        "colab": {
          "base_uri": "https://localhost:8080/",
          "height": 136
        },
        "outputId": "29524cca-9c21-4694-fab9-88523e828371"
      },
      "source": [
        "predicted_output = []\n",
        "i = 0\n",
        "while (i + batch_size) <= len(X_test): \n",
        "  \n",
        "    output = session.run([outputs],feed_dict={inputPlaceholder:X_test[i:i+batch_size]})\n",
        "    i += batch_size\n",
        "    predicted_output.append(output)\n",
        "    \n",
        "    \n",
        "# Print the predicted output\n",
        "predicted_output[0]"
      ],
      "execution_count": 111,
      "outputs": [
        {
          "output_type": "execute_result",
          "data": {
            "text/plain": [
              "[[array([[-0.6034174]], dtype=float32),\n",
              "  array([[-0.5992274]], dtype=float32),\n",
              "  array([[-0.5987067]], dtype=float32),\n",
              "  array([[-0.59838593]], dtype=float32),\n",
              "  array([[-0.59774005]], dtype=float32),\n",
              "  array([[-0.5998876]], dtype=float32),\n",
              "  array([[-0.5947274]], dtype=float32)]]"
            ]
          },
          "metadata": {
            "tags": []
          },
          "execution_count": 111
        }
      ]
    },
    {
      "cell_type": "markdown",
      "metadata": {
        "id": "r6Km2s4ZtWCx",
        "colab_type": "text"
      },
      "source": [
        "As you can see above, the predicted values are in a nested list. So we will just flatten them."
      ]
    },
    {
      "cell_type": "code",
      "metadata": {
        "id": "ADdn35lUtWC3",
        "colab_type": "code",
        "colab": {
          "base_uri": "https://localhost:8080/",
          "height": 34
        },
        "outputId": "815387b5-4510-4db3-9a34-88dcf399b6de"
      },
      "source": [
        "predicted_values_test = []\n",
        "for i in range(len(predicted_output)):\n",
        "    for j in range(len(predicted_output[i][0])):\n",
        "        predicted_values_test.append(predicted_output[i][0][j])\n",
        "        \n",
        "# Now if we print the predicted values, it is no longer in a nested list\n",
        "predicted_values_test[0]"
      ],
      "execution_count": 112,
      "outputs": [
        {
          "output_type": "execute_result",
          "data": {
            "text/plain": [
              "array([[-0.6034174]], dtype=float32)"
            ]
          },
          "metadata": {
            "tags": []
          },
          "execution_count": 112
        }
      ]
    },
    {
      "cell_type": "markdown",
      "metadata": {
        "id": "s0hrxXc6tWDH",
        "colab_type": "text"
      },
      "source": [
        "As we took the first 1000 points as a training set, we make predictions for time step greater\n",
        "than 1000."
      ]
    },
    {
      "cell_type": "code",
      "metadata": {
        "id": "56uSIUkGtWDI",
        "colab_type": "code",
        "colab": {
          "base_uri": "https://localhost:8080/",
          "height": 446
        },
        "outputId": "e77105fc-4834-4585-f1b3-90e88695fb37"
      },
      "source": [
        "predictions = []\n",
        "for i in range(1280):\n",
        "    if i >= 1000:\n",
        "        predictions.append(predicted_values_test[i-1019])\n",
        "    else:\n",
        "        predictions.append(None)\n",
        "        \n",
        "# Plot and see how well the predicted value matches the actual value:\n",
        "plt.figure(figsize=(16, 7))\n",
        "plt.plot(dataClose, label='Actual')\n",
        "plt.plot(predictions, label='Predicted')\n",
        "plt.legend()\n",
        "plt.xlabel('Days')\n",
        "plt.ylabel('Price')\n",
        "plt.grid()\n",
        "plt.show()\n",
        "\n",
        "# As you can see in the above plot, the actual value is shown in blue color and the predicted value is shown in orange color. \n",
        "# As we are making predictions for the time step greater than 1000, you can see after the time step 1000,\n",
        "# blue and orange lines interest each other, which implies that our model has correctly predicted the actual values."
      ],
      "execution_count": 128,
      "outputs": [
        {
          "output_type": "display_data",
          "data": {
            "image/png": "[encoded data removed]",
            "text/plain": [
              "<Figure size 1152x504 with 1 Axes>"
            ]
          },
          "metadata": {
            "tags": []
          }
        }
      ]
    }
  ]
}